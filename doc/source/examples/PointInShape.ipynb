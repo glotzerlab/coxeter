{
 "cells": [
  {
   "cell_type": "markdown",
   "metadata": {},
   "source": [
    "# Checking if points lie in a shape\n",
    "\n",
    "For the purpose of tasks like Monte Carlo integration it is often useful to check if points are inside a shape.\n",
    "**coxeter** makes it easy to check this for various shapes, as we'll demonstrate here."
   ]
  },
  {
   "cell_type": "code",
   "execution_count": null,
   "metadata": {},
   "outputs": [],
   "source": [
    "import numpy as np\n",
    "import coxeter\n",
    "from matplotlib import pyplot as plt, patches"
   ]
  },
  {
   "cell_type": "code",
   "execution_count": null,
   "metadata": {},
   "outputs": [],
   "source": [
    "def plot_polygon(vertices):\n",
    "    \"\"\"Convenience function to plot a nonconvex polygon from a set of vertices.\"\"\"\n",
    "    fig, ax = plt.subplots(figsize=(6, 6))\n",
    "    polygon_plot = ax.add_patch(patches.Polygon(vertices[:, :2], fill=False, linewidth=7, edgecolor='k'))\n",
    "\n",
    "    ax.tick_params(bottom=False, left=False, labelbottom=False, labelleft=False)\n",
    "    for spine in ax.spines.values():\n",
    "        spine.set_visible(False)\n",
    "    fig.tight_layout()\n",
    "    ax.set_xlim([-1.1, 1.1])\n",
    "    ax.set_ylim([-1.1, 1.1])\n",
    "    \n",
    "    return fig, ax"
   ]
  },
  {
   "cell_type": "markdown",
   "metadata": {},
   "source": [
    "We start by generating a nontrivial polygon and visualizing it."
   ]
  },
  {
   "cell_type": "code",
   "execution_count": null,
   "metadata": {},
   "outputs": [],
   "source": [
    "vertices = np.array([\n",
    "    [5, 0],\n",
    "    [4, 4],\n",
    "    [2, 2],\n",
    "    [0, 5],\n",
    "    [-1, 3],\n",
    "    [-3, 4],\n",
    "    [-5, 0],\n",
    "    [-3, -4],\n",
    "    [-1, -2],\n",
    "    [2, -5],\n",
    "]) / 5"
   ]
  },
  {
   "cell_type": "code",
   "execution_count": null,
   "metadata": {},
   "outputs": [],
   "source": [
    "plot_polygon(vertices)"
   ]
  },
  {
   "cell_type": "markdown",
   "metadata": {},
   "source": [
    "Now we generate a set of points somewhere in the $(-1, 1)$ range in $x$ and $y$.\n",
    "Some of these points will lie inside the shape, while others will lie outside.\n",
    "We'll create a coxeter `Polygon` from the vertices above, then use it to check which points lie inside the shape."
   ]
  },
  {
   "cell_type": "code",
   "execution_count": null,
   "metadata": {},
   "outputs": [],
   "source": [
    "polygon = coxeter.shapes.Polygon(vertices)\n",
    "\n",
    "# This seed gives a reasonable set of points.\n",
    "np.random.seed(38023)\n",
    "test_points = np.random.rand(40, 3) * 2 - 1\n",
    "test_points[:, 2] = 0\n",
    "is_inside = polygon.is_inside(test_points)"
   ]
  },
  {
   "cell_type": "markdown",
   "metadata": {},
   "source": [
    "Finally, we replot the polygon, and this time we also plot all the test points.\n",
    "We will color code them, using red to indicate points outside the shape and blue for points inside."
   ]
  },
  {
   "cell_type": "code",
   "execution_count": null,
   "metadata": {},
   "outputs": [],
   "source": [
    "fig, ax = plot_polygon(vertices);\n",
    "ax.scatter(test_points[is_inside][:, 0], test_points[is_inside][:, 1], c='blue', s=300)\n",
    "ax.scatter(test_points[~is_inside][:, 0], test_points[~is_inside][:, 1], c='red', s=300)"
   ]
  }
 ],
 "metadata": {
  "kernelspec": {
   "display_name": "Python 3",
   "language": "python",
   "name": "python3"
  },
  "language_info": {
   "codemirror_mode": {
    "name": "ipython",
    "version": 3
   },
   "file_extension": ".py",
   "mimetype": "text/x-python",
   "name": "python",
   "nbconvert_exporter": "python",
   "pygments_lexer": "ipython3",
   "version": "3.8.5"
  }
 },
 "nbformat": 4,
 "nbformat_minor": 4
}

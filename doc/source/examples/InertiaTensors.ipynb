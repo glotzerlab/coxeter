{
 "cells": [
  {
   "cell_type": "markdown",
   "metadata": {},
   "source": [
    "# Calculating inertia tensors of shapes\n",
    "\n",
    "Computing the inertia tensor of an arbitrary volume in 3D involves a complicated integral.\n",
    "For polytopes, the integral becomes especially complicated because the shape must be broken up into simplices in order to perform the calculation, and making the calculation numerically robust requires careful consideration of how best to perform the calculation.\n",
    "**coxeter** uses the best available algorithms for different shapes to minimize these errors, making it equally easy to compute moments of inertia for simple shapes like circles and complex ones like polyhedra."
   ]
  },
  {
   "cell_type": "code",
   "execution_count": null,
   "metadata": {},
   "outputs": [],
   "source": [
    "import coxeter\n",
    "from matplotlib import pyplot as plt\n",
    "import rowan\n",
    "from mpl_toolkits import mplot3d \n",
    "import numpy as np"
   ]
  },
  {
   "cell_type": "code",
   "execution_count": null,
   "metadata": {},
   "outputs": [],
   "source": [
    "def plot_polyhedron(poly, include_tensor=False, length_scale=3):\n",
    "    \"\"\"Plot a polyhedron a provided set of matplotlib axes.\n",
    "\n",
    "    The include_tensor parameter controls whether or not the axes\n",
    "    of the inertia tensor are plotted. If they are, then the\n",
    "    length_scale controls how much the axis vectors are extended,\n",
    "    which is purely for visualization purposes.\n",
    "    \"\"\"\n",
    "    fig, ax = plt.subplots(figsize=(6, 6), subplot_kw={'projection': '3d'})\n",
    "\n",
    "    # Generate a triangulation for plot_trisurf.\n",
    "    vertex_to_index = {tuple(v): i for i, v in enumerate(poly.vertices)}\n",
    "    triangles = [\n",
    "        [vertex_to_index[tuple(v)] for v in triangle]\n",
    "        for triangle in poly._surface_triangulation()\n",
    "    ]        \n",
    "    \n",
    "    # Plot the triangulation to get faces, but without any outlines because outlining\n",
    "    # the triangulation will include lines along faces where coplanar simplices intersect.\n",
    "    verts = poly.vertices\n",
    "    ax.plot_trisurf(\n",
    "        verts[:, 0], verts[:, 1], verts[:, 2], triangles=triangles,\n",
    "        # Make the triangles partly transparent.\n",
    "        color=tuple([*plt.get_cmap('tab10').colors[4], 0.3])\n",
    "    )\n",
    "\n",
    "    # Add lines manually.\n",
    "    for face in poly.faces:\n",
    "        verts = poly.vertices[face]\n",
    "        verts = np.concatenate((verts, verts[[0]]))\n",
    "        ax.plot(verts[:, 0], verts[:, 1], verts[:, 2], c='k', lw=0.4)\n",
    "\n",
    "    # If requested, plot the axes of the inertia tensor.\n",
    "    if include_tensor:\n",
    "        centers = np.repeat(poly.center[np.newaxis, :], axis=0, repeats=3)\n",
    "        arrows = poly.inertia_tensor * length_scale\n",
    "        ax.quiver3D(centers[:, 0], centers[:, 1], centers[:, 2],\n",
    "                    arrows[:, 0], arrows[:, 1], arrows[:, 2], color='k', lw=3)\n",
    "\n",
    "    ax.view_init(elev=30, azim=-90)\n",
    "    limits = np.array([ax.get_xlim3d(), ax.get_ylim3d(), ax.get_zlim3d()])\n",
    "    center = np.mean(limits, axis=1)\n",
    "    radius = 0.5 * np.max(limits[:, 1] - limits[:, 0])\n",
    "    ax.set_xlim([center[0] - radius, center[0] + radius])\n",
    "    ax.set_ylim([center[1] - radius, center[1] + radius])\n",
    "    ax.set_zlim([center[2] - radius, center[2] + radius])\n",
    "    ax.tick_params(which='both', axis='both', labelsize=0)\n",
    "    fig.subplots_adjust(top=1, bottom=0, right=1, left=0, hspace=0, wspace=0)\n",
    "    fig.tight_layout()"
   ]
  },
  {
   "cell_type": "markdown",
   "metadata": {},
   "source": [
    "In this notebook, we will demonstrate the inertia tensor calculation using a square pyramid, a shape whose 3D orientation is easy to visualize.\n",
    "First, let's see what this shape looks like."
   ]
  },
  {
   "cell_type": "code",
   "execution_count": null,
   "metadata": {},
   "outputs": [],
   "source": [
    "vertices = np.array(\n",
    "    [[ 0.   ,  0.   ,  1.073],\n",
    "     [ 0.   , -0.707, -0.634],\n",
    "     [ 0.   , -0.707,  0.366],\n",
    "     [ 0.   ,  0.707, -0.634],\n",
    "     [ 0.   ,  0.707,  0.366],\n",
    "     [-0.707,  0.   , -0.634],\n",
    "     [-0.707,  0.   ,  0.366],\n",
    "     [ 0.707,  0.   , -0.634],\n",
    "     [ 0.707,  0.   ,  0.366]]\n",
    ")\n",
    "pyramid = coxeter.shapes.ConvexPolyhedron(vertices)"
   ]
  },
  {
   "cell_type": "code",
   "execution_count": null,
   "metadata": {},
   "outputs": [],
   "source": [
    "plot_polyhedron(pyramid)\n",
    "print(pyramid.inertia_tensor.round(3))"
   ]
  },
  {
   "cell_type": "markdown",
   "metadata": {},
   "source": [
    "Now let's see what the axes of the inertia tensor are as calculated using **coxeter**.\n",
    "To make them more prominent, we'll scale them since we're not doing any physical calculations where the magnitude is important here.\n",
    "Additionally, we'll rotate the shape so that it's principal frame is not aligned to the coordinate axes to make it easier to see the axes of the inertia tensor."
   ]
  },
  {
   "cell_type": "code",
   "execution_count": null,
   "metadata": {},
   "outputs": [],
   "source": [
    "rotated_pyramid = coxeter.shapes.ConvexPolyhedron(rowan.rotate(\n",
    "    [-0.6052796 ,  0.49886219, -0.21305172,  0.58256509],\n",
    "    vertices\n",
    "))\n",
    "\n",
    "plot_polyhedron(rotated_pyramid, include_tensor=True, length_scale=3)\n",
    "print(rotated_pyramid.inertia_tensor.round(3))"
   ]
  },
  {
   "cell_type": "markdown",
   "metadata": {},
   "source": [
    "From this perspective, we can at least two of the axes quite well (the third vector pointing into the screen is largely obscured by the vector pointing up).\n",
    "It is often convenient to work with shapes in their principal frame, i.e. the frame in which the inertia tensor is diagonalized.\n",
    "**coxeter** makes it easy to diagonalize a shape with a single command."
   ]
  },
  {
   "cell_type": "code",
   "execution_count": null,
   "metadata": {},
   "outputs": [],
   "source": [
    "rotated_pyramid.diagonalize_inertia()\n",
    "plot_polyhedron(rotated_pyramid, include_tensor=True)\n",
    "print(rotated_pyramid.inertia_tensor.round(3))"
   ]
  }
 ],
 "metadata": {
  "kernelspec": {
   "display_name": "Python 3",
   "language": "python",
   "name": "python3"
  },
  "language_info": {
   "codemirror_mode": {
    "name": "ipython",
    "version": 3
   },
   "file_extension": ".py",
   "mimetype": "text/x-python",
   "name": "python",
   "nbconvert_exporter": "python",
   "pygments_lexer": "ipython3",
   "version": "3.8.5"
  }
 },
 "nbformat": 4,
 "nbformat_minor": 4
}

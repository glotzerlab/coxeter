{
 "cells": [
  {
   "cell_type": "code",
   "execution_count": 1,
   "metadata": {},
   "outputs": [],
   "source": [
    "import numpy as np\n",
    "from pyutils.polyutils import *\n",
    "from scipy.spatial import ConvexHull as ch\n",
    "from scipy.spatial import Delaunay\n",
    "\n",
    "import coxeter\n",
    "from coxeter.families import (\n",
    "    ArchimedeanFamily as archfam,\n",
    ")\n",
    "from coxeter.families import (\n",
    "    JohnsonFamily as johnfam,\n",
    ")\n",
    "from coxeter.families import (\n",
    "    PlatonicFamily as platfam,\n",
    ")\n",
    "from coxeter.shapes import ConvexPolyhedron, Polyhedron\n"
   ]
  },
  {
   "cell_type": "code",
   "execution_count": 2,
   "metadata": {},
   "outputs": [],
   "source": [
    "cube = platfam.get_shape(\"Cube\")\n",
    "# tetr = platfam.get_shape(\"Tetrahedron\")\n",
    "mbri = johnfam.get_shape(\"Metabidiminished Rhombicosidodecahedron\")\n",
    "# icosi = archfam.get_shape(\"Icosidodecahedron\")\n",
    "# poly = cube"
   ]
  },
  {
   "cell_type": "code",
   "execution_count": 9,
   "metadata": {},
   "outputs": [],
   "source": [
    "archs = get_shortcodes()\n",
    "# archs"
   ]
  },
  {
   "cell_type": "code",
   "execution_count": 5,
   "metadata": {},
   "outputs": [
    {
     "data": {
      "text/plain": [
       "array([[-0. , -0. , -1. , -0.5],\n",
       "       [ 0. , -1. ,  0. , -0.5],\n",
       "       [ 1. , -0. , -0. , -0.5],\n",
       "       [-1. , -0. , -0. , -0.5],\n",
       "       [ 0. ,  1. , -0. , -0.5],\n",
       "       [-0. , -0. ,  1. , -0.5]])"
      ]
     },
     "execution_count": 5,
     "metadata": {},
     "output_type": "execute_result"
    }
   ],
   "source": [
    "cube.equations"
   ]
  },
  {
   "cell_type": "code",
   "execution_count": 4,
   "metadata": {},
   "outputs": [
    {
     "ename": "NameError",
     "evalue": "name 'self' is not defined",
     "output_type": "error",
     "traceback": [
      "\u001b[0;31m---------------------------------------------------------------------------\u001b[0m",
      "\u001b[0;31mNameError\u001b[0m                                 Traceback (most recent call last)",
      "\u001b[1;32m/Users/jenbradley/github/coxeter/temp.ipynb Cell 4\u001b[0m line \u001b[0;36m1\n\u001b[0;32m----> <a href='vscode-notebook-cell:/Users/jenbradley/github/coxeter/temp.ipynb#W3sZmlsZQ%3D%3D?line=0'>1</a>\u001b[0m simplex_normals \u001b[39m=\u001b[39m \u001b[39mself\u001b[39;49m\u001b[39m.\u001b[39m_simplex_equations[:, :\u001b[39m3\u001b[39m]\n\u001b[1;32m      <a href='vscode-notebook-cell:/Users/jenbradley/github/coxeter/temp.ipynb#W3sZmlsZQ%3D%3D?line=1'>2</a>\u001b[0m \u001b[39m# Generate boolean array checking which simplices share a normal (within tolerance)\u001b[39;00m\n\u001b[1;32m      <a href='vscode-notebook-cell:/Users/jenbradley/github/coxeter/temp.ipynb#W3sZmlsZQ%3D%3D?line=2'>3</a>\u001b[0m is_coplanar \u001b[39m=\u001b[39m np\u001b[39m.\u001b[39mall(\n\u001b[1;32m      <a href='vscode-notebook-cell:/Users/jenbradley/github/coxeter/temp.ipynb#W3sZmlsZQ%3D%3D?line=3'>4</a>\u001b[0m     np\u001b[39m.\u001b[39mabs(simplex_normals[:, \u001b[39mNone\u001b[39;00m] \u001b[39m-\u001b[39m simplex_normals) \u001b[39m<\u001b[39m tol, axis\u001b[39m=\u001b[39m\u001b[39m2\u001b[39m\n\u001b[1;32m      <a href='vscode-notebook-cell:/Users/jenbradley/github/coxeter/temp.ipynb#W3sZmlsZQ%3D%3D?line=4'>5</a>\u001b[0m )\n",
      "\u001b[0;31mNameError\u001b[0m: name 'self' is not defined"
     ]
    }
   ],
   "source": [
    "simplex_normals = self._simplex_equations[:, :3]\n",
    "# Generate boolean array checking which simplices share a normal (within tolerance)\n",
    "is_coplanar = np.all(np.abs(simplex_normals[:, None] - simplex_normals) < tol, axis=2)\n",
    "# Convert boolean array into ragged list of coplanar simplices\n",
    "coplanar_simplices = list({tuple(np.where(coplanar)[0]) for coplanar in is_coplanar})\n",
    "faces = []\n",
    "ordered_simplices = []\n",
    "simplex_equation_indices = []\n",
    "for face_simplex_indices in coplanar_simplices:\n",
    "    # Get unique vertex indices from faces and convert to numpy array\n",
    "    faces.append(\n",
    "        np.fromiter(set(self.simplices[[face_simplex_indices]].flat), np.int32)\n",
    "    )\n",
    "    # Add simplex indices back into list that matches face ordering\n",
    "    ordered_simplices.extend(face_simplex_indices)\n",
    "    simplex_equation_indices.append(face_simplex_indices[0])\n",
    "\n",
    "# Assign faces and associated data to variables\n",
    "self._faces = faces\n",
    "self._coplanar_simplices = coplanar_simplices\n",
    "self._equations = self._simplex_equations[simplex_equation_indices]\n",
    "\n",
    "# Reorder list of simplices (and related properties) to match the list of faces\n",
    "self._simplices = self._simplices[ordered_simplices]\n",
    "self._simplex_equations = self._simplex_equations[ordered_simplices]\n",
    "self._simplex_neighbors = self._simplex_neighbors[ordered_simplices]"
   ]
  },
  {
   "cell_type": "code",
   "execution_count": 5,
   "metadata": {},
   "outputs": [
    {
     "name": "stdout",
     "output_type": "stream",
     "text": [
      "[81, 82, 2, 5, 35, 36, 8, 12, 13, 21, 22, 27, 28, 29, 40, 41, 61, 62, 63, 17, 18, 70, 71, 72, 73, 74, 75, 76, 77, 49, 50, 51, 68, 69, 78, 79, 80, 54, 55, 64, 65, 83, 84, 85, 86, 87, 88, 89, 90, 4, 1, 7, 59, 60, 56, 57, 58, 23, 24, 10, 11, 19, 20, 14, 15, 16, 47, 48, 0, 42, 43, 32, 33, 34, 37, 38, 39, 3, 9, 44, 45, 46, 6, 52, 53, 91, 92, 93, 94, 95, 66, 67, 30, 31, 25, 26]\n"
     ]
    }
   ],
   "source": [
    "poly = mbri\n",
    "# for poly, name in [findpoly(a) for a in archs]:\n",
    "# poly = mbri\n",
    "tol = 1e-14\n",
    "simplex_normals = poly._simplex_equations\n",
    "# Generate boolean array checking which simplices share a normal (within tolerance)\n",
    "is_coplanar = np.all(np.abs(simplex_normals[:, None] - simplex_normals) < tol, axis=2)\n",
    "# Convert boolean array into ragged list of coplanar simplices\n",
    "coplanar_simplices = list({tuple(np.where(coplanar)[0]) for coplanar in is_coplanar})\n",
    "faces = []\n",
    "ordered_simplices = []\n",
    "simplex_equation_indices = []\n",
    "for face_simplex_indices in coplanar_simplices:\n",
    "    # Get unique vertex indices from faces and convert to numpy array\n",
    "    faces.append(\n",
    "        np.fromiter(set(poly.simplices[[face_simplex_indices]].flat), np.int32)\n",
    "    )\n",
    "    # Add simplex indices back into list that matches face ordering\n",
    "    ordered_simplices.extend(face_simplex_indices)\n",
    "    simplex_equation_indices.append(face_simplex_indices[0])\n",
    "assert {tuple(sorted(i)) for i in faces} == {tuple(sorted(i)) for i in poly.faces}\n",
    "print(ordered_simplices)"
   ]
  },
  {
   "cell_type": "code",
   "execution_count": 6,
   "metadata": {},
   "outputs": [
    {
     "data": {
      "text/plain": [
       "array([[ 0,  0],\n",
       "       [ 1,  1],\n",
       "       [ 2,  2],\n",
       "       [ 3,  3],\n",
       "       [ 4,  4],\n",
       "       [ 5,  5],\n",
       "       [ 6,  6],\n",
       "       [ 7,  7],\n",
       "       [ 8,  8],\n",
       "       [ 9,  9],\n",
       "       [10, 10],\n",
       "       [10, 11],\n",
       "       [11, 10],\n",
       "       [11, 11],\n",
       "       [12, 12],\n",
       "       [12, 13],\n",
       "       [13, 12],\n",
       "       [13, 13],\n",
       "       [14, 14],\n",
       "       [14, 15],\n",
       "       [14, 16],\n",
       "       [15, 14],\n",
       "       [15, 15],\n",
       "       [15, 16],\n",
       "       [16, 14],\n",
       "       [16, 15],\n",
       "       [16, 16],\n",
       "       [17, 17],\n",
       "       [17, 18],\n",
       "       [18, 17],\n",
       "       [18, 18],\n",
       "       [19, 19],\n",
       "       [19, 20],\n",
       "       [20, 19],\n",
       "       [20, 20],\n",
       "       [21, 21],\n",
       "       [21, 22],\n",
       "       [22, 21],\n",
       "       [22, 22],\n",
       "       [23, 23],\n",
       "       [23, 24],\n",
       "       [24, 23],\n",
       "       [24, 24],\n",
       "       [25, 25],\n",
       "       [25, 26],\n",
       "       [26, 25],\n",
       "       [26, 26],\n",
       "       [27, 27],\n",
       "       [27, 28],\n",
       "       [27, 29],\n",
       "       [28, 27],\n",
       "       [28, 28],\n",
       "       [28, 29],\n",
       "       [29, 27],\n",
       "       [29, 28],\n",
       "       [29, 29],\n",
       "       [30, 30],\n",
       "       [30, 31],\n",
       "       [31, 30],\n",
       "       [31, 31],\n",
       "       [32, 32],\n",
       "       [32, 33],\n",
       "       [32, 34],\n",
       "       [33, 32],\n",
       "       [33, 33],\n",
       "       [33, 34],\n",
       "       [34, 32],\n",
       "       [34, 33],\n",
       "       [34, 34],\n",
       "       [35, 35],\n",
       "       [35, 36],\n",
       "       [36, 35],\n",
       "       [36, 36],\n",
       "       [37, 37],\n",
       "       [37, 38],\n",
       "       [37, 39],\n",
       "       [38, 37],\n",
       "       [38, 38],\n",
       "       [38, 39],\n",
       "       [39, 37],\n",
       "       [39, 38],\n",
       "       [39, 39],\n",
       "       [40, 40],\n",
       "       [40, 41],\n",
       "       [41, 40],\n",
       "       [41, 41],\n",
       "       [42, 42],\n",
       "       [42, 43],\n",
       "       [43, 42],\n",
       "       [43, 43],\n",
       "       [44, 44],\n",
       "       [44, 45],\n",
       "       [44, 46],\n",
       "       [45, 44],\n",
       "       [45, 45],\n",
       "       [45, 46],\n",
       "       [46, 44],\n",
       "       [46, 45],\n",
       "       [46, 46],\n",
       "       [47, 47],\n",
       "       [47, 48],\n",
       "       [48, 47],\n",
       "       [48, 48],\n",
       "       [49, 49],\n",
       "       [49, 50],\n",
       "       [49, 51],\n",
       "       [50, 49],\n",
       "       [50, 50],\n",
       "       [50, 51],\n",
       "       [51, 49],\n",
       "       [51, 50],\n",
       "       [51, 51],\n",
       "       [52, 52],\n",
       "       [52, 53],\n",
       "       [53, 52],\n",
       "       [53, 53],\n",
       "       [54, 54],\n",
       "       [54, 55],\n",
       "       [55, 54],\n",
       "       [55, 55],\n",
       "       [56, 56],\n",
       "       [56, 57],\n",
       "       [56, 58],\n",
       "       [57, 56],\n",
       "       [57, 57],\n",
       "       [57, 58],\n",
       "       [58, 56],\n",
       "       [58, 57],\n",
       "       [58, 58],\n",
       "       [59, 59],\n",
       "       [59, 60],\n",
       "       [60, 59],\n",
       "       [60, 60],\n",
       "       [61, 61],\n",
       "       [61, 62],\n",
       "       [61, 63],\n",
       "       [62, 61],\n",
       "       [62, 62],\n",
       "       [62, 63],\n",
       "       [63, 61],\n",
       "       [63, 62],\n",
       "       [63, 63],\n",
       "       [64, 64],\n",
       "       [64, 65],\n",
       "       [65, 64],\n",
       "       [65, 65],\n",
       "       [66, 66],\n",
       "       [66, 67],\n",
       "       [67, 66],\n",
       "       [67, 67],\n",
       "       [68, 68],\n",
       "       [68, 69],\n",
       "       [69, 68],\n",
       "       [69, 69],\n",
       "       [70, 70],\n",
       "       [70, 71],\n",
       "       [70, 72],\n",
       "       [70, 73],\n",
       "       [70, 74],\n",
       "       [70, 75],\n",
       "       [70, 76],\n",
       "       [70, 77],\n",
       "       [71, 70],\n",
       "       [71, 71],\n",
       "       [71, 72],\n",
       "       [71, 73],\n",
       "       [71, 74],\n",
       "       [71, 75],\n",
       "       [71, 76],\n",
       "       [71, 77],\n",
       "       [72, 70],\n",
       "       [72, 71],\n",
       "       [72, 72],\n",
       "       [72, 73],\n",
       "       [72, 74],\n",
       "       [72, 75],\n",
       "       [72, 76],\n",
       "       [72, 77],\n",
       "       [73, 70],\n",
       "       [73, 71],\n",
       "       [73, 72],\n",
       "       [73, 73],\n",
       "       [73, 74],\n",
       "       [73, 75],\n",
       "       [73, 76],\n",
       "       [73, 77],\n",
       "       [74, 70],\n",
       "       [74, 71],\n",
       "       [74, 72],\n",
       "       [74, 73],\n",
       "       [74, 74],\n",
       "       [74, 75],\n",
       "       [74, 76],\n",
       "       [74, 77],\n",
       "       [75, 70],\n",
       "       [75, 71],\n",
       "       [75, 72],\n",
       "       [75, 73],\n",
       "       [75, 74],\n",
       "       [75, 75],\n",
       "       [75, 76],\n",
       "       [75, 77],\n",
       "       [76, 70],\n",
       "       [76, 71],\n",
       "       [76, 72],\n",
       "       [76, 73],\n",
       "       [76, 74],\n",
       "       [76, 75],\n",
       "       [76, 76],\n",
       "       [76, 77],\n",
       "       [77, 70],\n",
       "       [77, 71],\n",
       "       [77, 72],\n",
       "       [77, 73],\n",
       "       [77, 74],\n",
       "       [77, 75],\n",
       "       [77, 76],\n",
       "       [77, 77],\n",
       "       [78, 78],\n",
       "       [78, 79],\n",
       "       [78, 80],\n",
       "       [79, 78],\n",
       "       [79, 79],\n",
       "       [79, 80],\n",
       "       [80, 78],\n",
       "       [80, 79],\n",
       "       [80, 80],\n",
       "       [81, 81],\n",
       "       [81, 82],\n",
       "       [82, 81],\n",
       "       [82, 82],\n",
       "       [83, 83],\n",
       "       [83, 84],\n",
       "       [83, 85],\n",
       "       [83, 86],\n",
       "       [83, 87],\n",
       "       [83, 88],\n",
       "       [83, 89],\n",
       "       [83, 90],\n",
       "       [84, 83],\n",
       "       [84, 84],\n",
       "       [84, 85],\n",
       "       [84, 86],\n",
       "       [84, 87],\n",
       "       [84, 88],\n",
       "       [84, 89],\n",
       "       [84, 90],\n",
       "       [85, 83],\n",
       "       [85, 84],\n",
       "       [85, 85],\n",
       "       [85, 86],\n",
       "       [85, 87],\n",
       "       [85, 88],\n",
       "       [85, 89],\n",
       "       [85, 90],\n",
       "       [86, 83],\n",
       "       [86, 84],\n",
       "       [86, 85],\n",
       "       [86, 86],\n",
       "       [86, 87],\n",
       "       [86, 88],\n",
       "       [86, 89],\n",
       "       [86, 90],\n",
       "       [87, 83],\n",
       "       [87, 84],\n",
       "       [87, 85],\n",
       "       [87, 86],\n",
       "       [87, 87],\n",
       "       [87, 88],\n",
       "       [87, 89],\n",
       "       [87, 90],\n",
       "       [88, 83],\n",
       "       [88, 84],\n",
       "       [88, 85],\n",
       "       [88, 86],\n",
       "       [88, 87],\n",
       "       [88, 88],\n",
       "       [88, 89],\n",
       "       [88, 90],\n",
       "       [89, 83],\n",
       "       [89, 84],\n",
       "       [89, 85],\n",
       "       [89, 86],\n",
       "       [89, 87],\n",
       "       [89, 88],\n",
       "       [89, 89],\n",
       "       [89, 90],\n",
       "       [90, 83],\n",
       "       [90, 84],\n",
       "       [90, 85],\n",
       "       [90, 86],\n",
       "       [90, 87],\n",
       "       [90, 88],\n",
       "       [90, 89],\n",
       "       [90, 90],\n",
       "       [91, 91],\n",
       "       [91, 92],\n",
       "       [91, 93],\n",
       "       [92, 91],\n",
       "       [92, 92],\n",
       "       [92, 93],\n",
       "       [93, 91],\n",
       "       [93, 92],\n",
       "       [93, 93],\n",
       "       [94, 94],\n",
       "       [94, 95],\n",
       "       [95, 94],\n",
       "       [95, 95]])"
      ]
     },
     "execution_count": 6,
     "metadata": {},
     "output_type": "execute_result"
    }
   ],
   "source": [
    "np.argwhere(is_coplanar)\n",
    "# now, we index this back into a grid"
   ]
  },
  {
   "cell_type": "code",
   "execution_count": 7,
   "metadata": {},
   "outputs": [
    {
     "data": {
      "text/plain": [
       "[[0],\n",
       " [1],\n",
       " [2],\n",
       " [3],\n",
       " [4],\n",
       " [5],\n",
       " [6],\n",
       " [7],\n",
       " [8],\n",
       " [9],\n",
       " [10, 11],\n",
       " [10, 11],\n",
       " [12, 13],\n",
       " [12, 13],\n",
       " [14, 15, 16],\n",
       " [14, 15, 16],\n",
       " [14, 15, 16],\n",
       " [17, 18],\n",
       " [17, 18],\n",
       " [19, 20],\n",
       " [19, 20],\n",
       " [21, 22],\n",
       " [21, 22],\n",
       " [23, 24],\n",
       " [23, 24],\n",
       " [25, 26],\n",
       " [25, 26],\n",
       " [27, 28, 29],\n",
       " [27, 28, 29],\n",
       " [27, 28, 29],\n",
       " [30, 31],\n",
       " [30, 31],\n",
       " [32, 33, 34],\n",
       " [32, 33, 34],\n",
       " [32, 33, 34],\n",
       " [35, 36],\n",
       " [35, 36],\n",
       " [37, 38, 39],\n",
       " [37, 38, 39],\n",
       " [37, 38, 39],\n",
       " [40, 41],\n",
       " [40, 41],\n",
       " [42, 43],\n",
       " [42, 43],\n",
       " [44, 45, 46],\n",
       " [44, 45, 46],\n",
       " [44, 45, 46],\n",
       " [47, 48],\n",
       " [47, 48],\n",
       " [49, 50, 51],\n",
       " [49, 50, 51],\n",
       " [49, 50, 51],\n",
       " [52, 53],\n",
       " [52, 53],\n",
       " [54, 55],\n",
       " [54, 55],\n",
       " [56, 57, 58],\n",
       " [56, 57, 58],\n",
       " [56, 57, 58],\n",
       " [59, 60],\n",
       " [59, 60],\n",
       " [61, 62, 63],\n",
       " [61, 62, 63],\n",
       " [61, 62, 63],\n",
       " [64, 65],\n",
       " [64, 65],\n",
       " [66, 67],\n",
       " [66, 67],\n",
       " [68, 69],\n",
       " [68, 69],\n",
       " [70, 71, 72, 73, 74, 75, 76, 77],\n",
       " [70, 71, 72, 73, 74, 75, 76, 77],\n",
       " [70, 71, 72, 73, 74, 75, 76, 77],\n",
       " [70, 71, 72, 73, 74, 75, 76, 77],\n",
       " [70, 71, 72, 73, 74, 75, 76, 77],\n",
       " [70, 71, 72, 73, 74, 75, 76, 77],\n",
       " [70, 71, 72, 73, 74, 75, 76, 77],\n",
       " [70, 71, 72, 73, 74, 75, 76, 77],\n",
       " [78, 79, 80],\n",
       " [78, 79, 80],\n",
       " [78, 79, 80],\n",
       " [81, 82],\n",
       " [81, 82],\n",
       " [83, 84, 85, 86, 87, 88, 89, 90],\n",
       " [83, 84, 85, 86, 87, 88, 89, 90],\n",
       " [83, 84, 85, 86, 87, 88, 89, 90],\n",
       " [83, 84, 85, 86, 87, 88, 89, 90],\n",
       " [83, 84, 85, 86, 87, 88, 89, 90],\n",
       " [83, 84, 85, 86, 87, 88, 89, 90],\n",
       " [83, 84, 85, 86, 87, 88, 89, 90],\n",
       " [83, 84, 85, 86, 87, 88, 89, 90],\n",
       " [91, 92, 93],\n",
       " [91, 92, 93],\n",
       " [91, 92, 93],\n",
       " [94, 95],\n",
       " [94, 95]]"
      ]
     },
     "execution_count": 7,
     "metadata": {},
     "output_type": "execute_result"
    }
   ],
   "source": [
    "nsimplices = len(poly.simplices)\n",
    "outarr = [[] for _ in range(nsimplices)]\n",
    "for row, coplanar in zip(*is_coplanar.nonzero()):\n",
    "    outarr[row].append(coplanar)\n",
    "outarr"
   ]
  },
  {
   "cell_type": "code",
   "execution_count": 8,
   "metadata": {},
   "outputs": [
    {
     "name": "stdout",
     "output_type": "stream",
     "text": [
      "57.1 µs ± 5.61 µs per loop (mean ± std. dev. of 50 runs, 10,000 loops each)\n"
     ]
    }
   ],
   "source": [
    "%%timeit -r 50 -n 10000\n",
    "coplanar_indices = [[] for _ in range(nsimplices)]\n",
    "for face, index in zip(*is_coplanar.nonzero()):\n",
    "    coplanar_indices[face].append(index)\n",
    "# outarr = list(set(map(tuple, outarr)))\n",
    "coplanar_indices = list(set(map(tuple, coplanar_indices)))\n",
    "coplanar_indices\n",
    "# So now we have our coplanar simplex indices. Extract back the"
   ]
  },
  {
   "cell_type": "code",
   "execution_count": 9,
   "metadata": {},
   "outputs": [
    {
     "name": "stdout",
     "output_type": "stream",
     "text": [
      "57.7 µs ± 1.58 µs per loop (mean ± std. dev. of 50 runs, 10,000 loops each)\n"
     ]
    }
   ],
   "source": [
    "%%timeit -r 50 -n 10000\n",
    "coplanar_indices = [[] for _ in range(nsimplices)]\n",
    "\n",
    "# Iterate over coplanar indices to build face lists\n",
    "for face, index in zip(*is_coplanar.nonzero()):\n",
    "    coplanar_indices[face].append(index)\n",
    "\n",
    "# Remove duplicate faces, then sort the face indices by their minimum value\n",
    "coplanar_indices = sorted(set(map(tuple, coplanar_indices)), key=lambda x: x[0])\n",
    "\n",
    "# So now we have our coplanar simplex indices. Extract back the faces\n",
    "\n",
    "coplanar_indices"
   ]
  },
  {
   "cell_type": "code",
   "execution_count": null,
   "metadata": {},
   "outputs": [],
   "source": []
  },
  {
   "cell_type": "code",
   "execution_count": null,
   "metadata": {},
   "outputs": [],
   "source": []
  },
  {
   "cell_type": "code",
   "execution_count": 10,
   "metadata": {},
   "outputs": [
    {
     "ename": "NameError",
     "evalue": "name 'coplanar_indices' is not defined",
     "output_type": "error",
     "traceback": [
      "\u001b[0;31m---------------------------------------------------------------------------\u001b[0m",
      "\u001b[0;31mNameError\u001b[0m                                 Traceback (most recent call last)",
      "\u001b[1;32m/Users/jenbradley/github/coxeter/temp.ipynb Cell 12\u001b[0m line \u001b[0;36m2\n\u001b[1;32m      <a href='vscode-notebook-cell:/Users/jenbradley/github/coxeter/temp.ipynb#X14sZmlsZQ%3D%3D?line=0'>1</a>\u001b[0m \u001b[39msorted\u001b[39m(\n\u001b[0;32m----> <a href='vscode-notebook-cell:/Users/jenbradley/github/coxeter/temp.ipynb#X14sZmlsZQ%3D%3D?line=1'>2</a>\u001b[0m     [np\u001b[39m.\u001b[39marray(\u001b[39msorted\u001b[39m(\u001b[39mset\u001b[39m(poly\u001b[39m.\u001b[39msimplices[[ind]]\u001b[39m.\u001b[39mflat))) \u001b[39mfor\u001b[39;00m ind \u001b[39min\u001b[39;00m coplanar_indices],\n\u001b[1;32m      <a href='vscode-notebook-cell:/Users/jenbradley/github/coxeter/temp.ipynb#X14sZmlsZQ%3D%3D?line=2'>3</a>\u001b[0m     key\u001b[39m=\u001b[39m\u001b[39mlambda\u001b[39;00m x: x[\u001b[39m0\u001b[39m],\n\u001b[1;32m      <a href='vscode-notebook-cell:/Users/jenbradley/github/coxeter/temp.ipynb#X14sZmlsZQ%3D%3D?line=3'>4</a>\u001b[0m )\n",
      "\u001b[0;31mNameError\u001b[0m: name 'coplanar_indices' is not defined"
     ]
    }
   ],
   "source": [
    "sorted(\n",
    "    [np.array(sorted(set(poly.simplices[[ind]].flat))) for ind in coplanar_indices],\n",
    "    key=lambda x: x[0],\n",
    ")"
   ]
  },
  {
   "cell_type": "code",
   "execution_count": null,
   "metadata": {},
   "outputs": [
    {
     "name": "stdout",
     "output_type": "stream",
     "text": [
      "89.9 µs ± 6.84 µs per loop (mean ± std. dev. of 100 runs, 10,000 loops each)\n"
     ]
    }
   ],
   "source": [
    "%%timeit -r 100 -n 10000\n",
    "[np.fromiter(set(poly.simplices[[ind]].flat), np.int32) for ind in coplanar_indices]"
   ]
  },
  {
   "cell_type": "code",
   "execution_count": null,
   "metadata": {},
   "outputs": [
    {
     "name": "stdout",
     "output_type": "stream",
     "text": [
      "102 µs ± 12.6 µs per loop (mean ± std. dev. of 100 runs, 10,000 loops each)\n"
     ]
    }
   ],
   "source": [
    "%%timeit -r 100 -n 10000\n",
    "[np.array(sorted(set(poly.simplices[[ind]].flat))) for ind in coplanar_indices]"
   ]
  },
  {
   "cell_type": "code",
   "execution_count": null,
   "metadata": {},
   "outputs": [
    {
     "name": "stdout",
     "output_type": "stream",
     "text": [
      "220 µs ± 14.3 µs per loop (mean ± std. dev. of 100 runs, 10,000 loops each)\n"
     ]
    }
   ],
   "source": [
    "%%timeit -r 100 -n 10000\n",
    "[np.unique(poly.simplices[[ind]].flat) for ind in coplanar_indices]\n",
    "# Upside of this (other than clarity) is the numbers are \"mostly\" sorted\n",
    "# I think this is only true because the input lists are sorted, but maybe this doesnt matter?\n",
    "# In any case, sorting above is cheap so we should keep doing that\n",
    "## 200us without .flat, and faster without - oof"
   ]
  },
  {
   "cell_type": "code",
   "execution_count": null,
   "metadata": {},
   "outputs": [
    {
     "name": "stdout",
     "output_type": "stream",
     "text": [
      "185 µs ± 14.4 µs per loop (mean ± std. dev. of 100 runs, 10,000 loops each)\n"
     ]
    }
   ],
   "source": [
    "%%timeit -r 100 -n 10000\n",
    "[np.unique(poly.simplices[[ind]]) for ind in coplanar_indices]\n",
    "# Upside of this (other than clarity) is the numbers are \"mostly\" sorted\n",
    "# I think this is only true because the input lists are sorted, but maybe this doesnt matter?\n",
    "# In any case, sorting above is cheap so we should keep doing that\n",
    "## 200us without .flat"
   ]
  },
  {
   "cell_type": "code",
   "execution_count": null,
   "metadata": {},
   "outputs": [
    {
     "data": {
      "text/plain": [
       "[array([38, 40, 48], dtype=int32),\n",
       " array([14, 22, 24], dtype=int32),\n",
       " array([15, 23, 25], dtype=int32),\n",
       " array([ 2,  7, 10], dtype=int32),\n",
       " array([0, 6, 8], dtype=int32),\n",
       " array([39, 41, 49], dtype=int32),\n",
       " array([33, 36, 45], dtype=int32),\n",
       " array([17, 20, 29], dtype=int32),\n",
       " array([32, 34, 43], dtype=int32),\n",
       " array([16, 18, 27], dtype=int32),\n",
       " array([15, 21, 25, 30], dtype=int32),\n",
       " array([36, 40, 45, 48], dtype=int32),\n",
       " array([ 1,  3, 15, 28, 30], dtype=int32),\n",
       " array([22, 23, 24, 25], dtype=int32),\n",
       " array([15, 19, 23, 28], dtype=int32),\n",
       " array([34, 38, 43, 48], dtype=int32),\n",
       " array([ 1,  3,  9, 11], dtype=int32),\n",
       " array([14, 18, 22, 27], dtype=int32),\n",
       " array([18, 19, 22, 23, 26], dtype=int32),\n",
       " array([ 2,  7, 17, 29], dtype=int32),\n",
       " array([ 0,  2, 14, 27, 29], dtype=int32),\n",
       " array([ 0,  2,  8, 10], dtype=int32),\n",
       " array([ 8, 10, 43, 45, 48], dtype=int32),\n",
       " array([35, 39, 44, 49], dtype=int32),\n",
       " array([38, 39, 40, 41], dtype=int32),\n",
       " array([36, 37, 40, 41, 47], dtype=int32),\n",
       " array([ 7, 10, 33, 45], dtype=int32),\n",
       " array([ 5,  7, 13, 17, 33], dtype=int32),\n",
       " array([13, 33, 36, 47], dtype=int32),\n",
       " array([14, 20, 24, 29], dtype=int32),\n",
       " array([34, 35, 38, 39, 42], dtype=int32),\n",
       " array([ 6,  8, 32, 43], dtype=int32),\n",
       " array([ 9, 11, 44, 46, 49], dtype=int32),\n",
       " array([37, 41, 46, 49], dtype=int32),\n",
       " array([ 4, 16, 18, 26], dtype=int32),\n",
       " array([ 0,  6, 16, 27], dtype=int32),\n",
       " array([ 3,  5, 11, 13, 21, 30, 31, 37, 46, 47], dtype=int32),\n",
       " array([20, 21, 24, 25, 31], dtype=int32),\n",
       " array([ 5, 17, 20, 31], dtype=int32),\n",
       " array([ 1,  4,  9, 12, 19, 26, 28, 35, 42, 44], dtype=int32),\n",
       " array([ 4,  6, 12, 16, 32], dtype=int32),\n",
       " array([12, 32, 34, 42], dtype=int32)]"
      ]
     },
     "execution_count": 225,
     "metadata": {},
     "output_type": "execute_result"
    }
   ],
   "source": [
    "[np.unique(poly.simplices[[ind]]) for ind in coplanar_indices]"
   ]
  },
  {
   "cell_type": "code",
   "execution_count": null,
   "metadata": {},
   "outputs": [
    {
     "ename": "ValueError",
     "evalue": "setting an array element with a sequence. The requested array has an inhomogeneous shape after 1 dimensions. The detected shape was (42,) + inhomogeneous part.",
     "output_type": "error",
     "traceback": [
      "\u001b[0;31m---------------------------------------------------------------------------\u001b[0m",
      "\u001b[0;31mValueError\u001b[0m                                Traceback (most recent call last)",
      "\u001b[1;32m/Users/jenbradley/github/coxeter/temp.ipynb Cell 16\u001b[0m line \u001b[0;36m1\n\u001b[0;32m----> <a href='vscode-notebook-cell:/Users/jenbradley/github/coxeter/temp.ipynb#X25sZmlsZQ%3D%3D?line=0'>1</a>\u001b[0m poly\u001b[39m.\u001b[39;49msimplices[coplanar_indices]\n",
      "\u001b[0;31mValueError\u001b[0m: setting an array element with a sequence. The requested array has an inhomogeneous shape after 1 dimensions. The detected shape was (42,) + inhomogeneous part."
     ]
    }
   ],
   "source": [
    "poly.simplices[coplanar_indices]"
   ]
  },
  {
   "cell_type": "code",
   "execution_count": null,
   "metadata": {},
   "outputs": [
    {
     "data": {
      "text/plain": [
       "{(0, 27, 14, 29, 2),\n",
       " (1, 3, 30, 15, 28),\n",
       " (1, 28, 19, 26, 4, 12, 42, 35, 44, 9),\n",
       " (2, 7, 10),\n",
       " (3, 1, 9, 11),\n",
       " (3, 11, 46, 37, 47, 13, 5, 31, 21, 30),\n",
       " (8, 0, 2, 10),\n",
       " (8, 6, 0),\n",
       " (8, 10, 45, 48, 43),\n",
       " (9, 44, 49, 46, 11),\n",
       " (16, 4, 26, 18),\n",
       " (16, 18, 27),\n",
       " (16, 27, 0, 6),\n",
       " (17, 7, 2, 29),\n",
       " (17, 20, 31, 5),\n",
       " (17, 29, 20),\n",
       " (18, 22, 14, 27),\n",
       " (18, 26, 19, 23, 22),\n",
       " (19, 28, 15, 23),\n",
       " (20, 24, 25, 21, 31),\n",
       " (24, 14, 22),\n",
       " (24, 20, 29, 14),\n",
       " (24, 22, 23, 25),\n",
       " (25, 15, 30, 21),\n",
       " (25, 23, 15),\n",
       " (32, 6, 8, 43),\n",
       " (32, 12, 4, 16, 6),\n",
       " (32, 34, 42, 12),\n",
       " (32, 43, 34),\n",
       " (33, 7, 17, 5, 13),\n",
       " (33, 13, 47, 36),\n",
       " (33, 36, 45),\n",
       " (33, 45, 10, 7),\n",
       " (34, 38, 39, 35, 42),\n",
       " (36, 47, 37, 41, 40),\n",
       " (40, 41, 39, 38),\n",
       " (41, 37, 46, 49),\n",
       " (41, 49, 39),\n",
       " (48, 38, 34, 43),\n",
       " (48, 40, 38),\n",
       " (48, 45, 36, 40),\n",
       " (49, 44, 35, 39)}"
      ]
     },
     "execution_count": 240,
     "metadata": {},
     "output_type": "execute_result"
    }
   ],
   "source": [
    "set(map(tuple, mbri.faces))"
   ]
  },
  {
   "cell_type": "code",
   "execution_count": null,
   "metadata": {},
   "outputs": [
    {
     "data": {
      "text/plain": [
       "True"
      ]
     },
     "execution_count": 250,
     "metadata": {},
     "output_type": "execute_result"
    }
   ],
   "source": [
    "set(\n",
    "    map(tuple, [np.unique(poly.simplices[[ind]].flat) for ind in coplanar_indices])\n",
    ") == set(map(tuple, map(sorted, mbri.faces)))"
   ]
  },
  {
   "cell_type": "code",
   "execution_count": 12,
   "metadata": {},
   "outputs": [
    {
     "data": {
      "text/plain": [
       "[array([38, 40, 48], dtype=int32),\n",
       " array([14, 22, 24], dtype=int32),\n",
       " array([15, 23, 25], dtype=int32),\n",
       " array([ 2,  7, 10], dtype=int32),\n",
       " array([0, 6, 8], dtype=int32),\n",
       " array([39, 41, 49], dtype=int32),\n",
       " array([33, 36, 45], dtype=int32),\n",
       " array([17, 20, 29], dtype=int32),\n",
       " array([32, 34, 43], dtype=int32),\n",
       " array([16, 18, 27], dtype=int32),\n",
       " array([15, 21, 25, 30], dtype=int32),\n",
       " array([36, 40, 45, 48], dtype=int32),\n",
       " array([ 1,  3, 15, 28, 30], dtype=int32),\n",
       " array([22, 23, 24, 25], dtype=int32),\n",
       " array([15, 19, 23, 28], dtype=int32),\n",
       " array([34, 38, 43, 48], dtype=int32),\n",
       " array([ 1,  3,  9, 11], dtype=int32),\n",
       " array([14, 18, 22, 27], dtype=int32),\n",
       " array([18, 19, 22, 23, 26], dtype=int32),\n",
       " array([ 2,  7, 17, 29], dtype=int32),\n",
       " array([ 0,  2, 14, 27, 29], dtype=int32),\n",
       " array([ 0,  2,  8, 10], dtype=int32),\n",
       " array([ 8, 10, 43, 45, 48], dtype=int32),\n",
       " array([35, 39, 44, 49], dtype=int32),\n",
       " array([38, 39, 40, 41], dtype=int32),\n",
       " array([36, 37, 40, 41, 47], dtype=int32),\n",
       " array([ 7, 10, 33, 45], dtype=int32),\n",
       " array([ 5,  7, 13, 17, 33], dtype=int32),\n",
       " array([13, 33, 36, 47], dtype=int32),\n",
       " array([14, 20, 24, 29], dtype=int32),\n",
       " array([34, 35, 38, 39, 42], dtype=int32),\n",
       " array([ 6,  8, 32, 43], dtype=int32),\n",
       " array([ 9, 11, 44, 46, 49], dtype=int32),\n",
       " array([37, 41, 46, 49], dtype=int32),\n",
       " array([ 4, 16, 18, 26], dtype=int32),\n",
       " array([ 0,  6, 16, 27], dtype=int32),\n",
       " array([ 3,  5, 11, 13, 21, 30, 31, 37, 46, 47], dtype=int32),\n",
       " array([20, 21, 24, 25, 31], dtype=int32),\n",
       " array([ 5, 17, 20, 31], dtype=int32),\n",
       " array([ 1,  4,  9, 12, 19, 26, 28, 35, 42, 44], dtype=int32),\n",
       " array([ 4,  6, 12, 16, 32], dtype=int32),\n",
       " array([12, 32, 34, 42], dtype=int32)]"
      ]
     },
     "execution_count": 12,
     "metadata": {},
     "output_type": "execute_result"
    }
   ],
   "source": [
    "# %%timeit -r 10 -n 100\n",
    "# lets compile everything together now:\n",
    "poly = mbri\n",
    "tol = 1e-15\n",
    "nsimplices = len(poly._simplices)\n",
    "is_coplanar = np.all(\n",
    "    np.abs(poly._simplex_equations[:, None] - poly._simplex_equations) < tol, axis=2\n",
    ")\n",
    "coplanar_indices = [[] for _ in range(nsimplices)]\n",
    "\n",
    "# Iterate over coplanar indices to build face index lists\n",
    "for face, index in zip(*is_coplanar.nonzero()):\n",
    "    coplanar_indices[face].append(index)\n",
    "\n",
    "# Remove duplicate faces, then sort the face indices by their minimum value\n",
    "coplanar_indices = sorted(set(map(tuple, coplanar_indices)), key=lambda x: x[0])\n",
    "\n",
    "# Set method is faster: but let's try this\n",
    "# Extract vertex indices from simplex indices and remove duplicates\n",
    "faces = [np.unique(poly.simplices[[ind]]) for ind in coplanar_indices]\n",
    "faces"
   ]
  },
  {
   "cell_type": "code",
   "execution_count": 24,
   "metadata": {},
   "outputs": [
    {
     "name": "stdout",
     "output_type": "stream",
     "text": [
      "3.04 µs ± 145 ns per loop (mean ± std. dev. of 10 runs, 10,000 loops each)\n"
     ]
    }
   ],
   "source": [
    "%%timeit -r 10 -n 10000\n",
    "poly._simplex_equations[[equation_index[0] for equation_index in coplanar_indices]]"
   ]
  },
  {
   "cell_type": "code",
   "execution_count": null,
   "metadata": {},
   "outputs": [],
   "source": []
  },
  {
   "cell_type": "code",
   "execution_count": null,
   "metadata": {},
   "outputs": [
    {
     "name": "stdout",
     "output_type": "stream",
     "text": [
      "300 µs ± 7.5 µs per loop (mean ± std. dev. of 10 runs, 10,000 loops each)\n"
     ]
    }
   ],
   "source": [
    "%%timeit -r 10 -n 10000\n",
    "# lets compile everything together now:\n",
    "is_coplanar = np.all(\n",
    "    np.abs(poly._simplex_equations[:, None] - poly._simplex_equations) < tol, axis=2\n",
    ")\n",
    "coplanar_indices = [[] for _ in range(nsimplices)]"
   ]
  },
  {
   "cell_type": "code",
   "execution_count": null,
   "metadata": {},
   "outputs": [
    {
     "ename": "AttributeError",
     "evalue": "'tuple' object has no attribute 'append'",
     "output_type": "error",
     "traceback": [
      "\u001b[0;31m---------------------------------------------------------------------------\u001b[0m",
      "\u001b[0;31mAttributeError\u001b[0m                            Traceback (most recent call last)",
      "\u001b[1;32m/Users/jenbradley/github/coxeter/temp.ipynb Cell 23\u001b[0m line \u001b[0;36m1\n\u001b[0;32m----> <a href='vscode-notebook-cell:/Users/jenbradley/github/coxeter/temp.ipynb#X35sZmlsZQ%3D%3D?line=0'>1</a>\u001b[0m get_ipython()\u001b[39m.\u001b[39;49mrun_cell_magic(\u001b[39m'\u001b[39;49m\u001b[39mtimeit\u001b[39;49m\u001b[39m'\u001b[39;49m, \u001b[39m'\u001b[39;49m\u001b[39m-r 10 -n 10000\u001b[39;49m\u001b[39m'\u001b[39;49m, \u001b[39m'\u001b[39;49m\u001b[39m# Iterate over coplanar indices to build face index lists\u001b[39;49m\u001b[39m\\n\u001b[39;49;00m\u001b[39mfor face, index in zip(*is_coplanar.nonzero()):\u001b[39;49m\u001b[39m\\n\u001b[39;49;00m\u001b[39m    coplanar_indices[face].append(index)\u001b[39;49m\u001b[39m\\n\u001b[39;49;00m\u001b[39m'\u001b[39;49m)\n",
      "File \u001b[0;32m~/micromamba/envs/690py311/lib/python3.11/site-packages/IPython/core/interactiveshell.py:2493\u001b[0m, in \u001b[0;36mInteractiveShell.run_cell_magic\u001b[0;34m(self, magic_name, line, cell)\u001b[0m\n\u001b[1;32m   2491\u001b[0m \u001b[39mwith\u001b[39;00m \u001b[39mself\u001b[39m\u001b[39m.\u001b[39mbuiltin_trap:\n\u001b[1;32m   2492\u001b[0m     args \u001b[39m=\u001b[39m (magic_arg_s, cell)\n\u001b[0;32m-> 2493\u001b[0m     result \u001b[39m=\u001b[39m fn(\u001b[39m*\u001b[39;49margs, \u001b[39m*\u001b[39;49m\u001b[39m*\u001b[39;49mkwargs)\n\u001b[1;32m   2495\u001b[0m \u001b[39m# The code below prevents the output from being displayed\u001b[39;00m\n\u001b[1;32m   2496\u001b[0m \u001b[39m# when using magics with decorator @output_can_be_silenced\u001b[39;00m\n\u001b[1;32m   2497\u001b[0m \u001b[39m# when the last Python token in the expression is a ';'.\u001b[39;00m\n\u001b[1;32m   2498\u001b[0m \u001b[39mif\u001b[39;00m \u001b[39mgetattr\u001b[39m(fn, magic\u001b[39m.\u001b[39mMAGIC_OUTPUT_CAN_BE_SILENCED, \u001b[39mFalse\u001b[39;00m):\n",
      "File \u001b[0;32m~/micromamba/envs/690py311/lib/python3.11/site-packages/IPython/core/magics/execution.py:1189\u001b[0m, in \u001b[0;36mExecutionMagics.timeit\u001b[0;34m(self, line, cell, local_ns)\u001b[0m\n\u001b[1;32m   1186\u001b[0m         \u001b[39mif\u001b[39;00m time_number \u001b[39m>\u001b[39m\u001b[39m=\u001b[39m \u001b[39m0.2\u001b[39m:\n\u001b[1;32m   1187\u001b[0m             \u001b[39mbreak\u001b[39;00m\n\u001b[0;32m-> 1189\u001b[0m all_runs \u001b[39m=\u001b[39m timer\u001b[39m.\u001b[39;49mrepeat(repeat, number)\n\u001b[1;32m   1190\u001b[0m best \u001b[39m=\u001b[39m \u001b[39mmin\u001b[39m(all_runs) \u001b[39m/\u001b[39m number\n\u001b[1;32m   1191\u001b[0m worst \u001b[39m=\u001b[39m \u001b[39mmax\u001b[39m(all_runs) \u001b[39m/\u001b[39m number\n",
      "File \u001b[0;32m~/micromamba/envs/690py311/lib/python3.11/timeit.py:206\u001b[0m, in \u001b[0;36mTimer.repeat\u001b[0;34m(self, repeat, number)\u001b[0m\n\u001b[1;32m    204\u001b[0m r \u001b[39m=\u001b[39m []\n\u001b[1;32m    205\u001b[0m \u001b[39mfor\u001b[39;00m i \u001b[39min\u001b[39;00m \u001b[39mrange\u001b[39m(repeat):\n\u001b[0;32m--> 206\u001b[0m     t \u001b[39m=\u001b[39m \u001b[39mself\u001b[39;49m\u001b[39m.\u001b[39;49mtimeit(number)\n\u001b[1;32m    207\u001b[0m     r\u001b[39m.\u001b[39mappend(t)\n\u001b[1;32m    208\u001b[0m \u001b[39mreturn\u001b[39;00m r\n",
      "File \u001b[0;32m~/micromamba/envs/690py311/lib/python3.11/site-packages/IPython/core/magics/execution.py:173\u001b[0m, in \u001b[0;36mTimer.timeit\u001b[0;34m(self, number)\u001b[0m\n\u001b[1;32m    171\u001b[0m gc\u001b[39m.\u001b[39mdisable()\n\u001b[1;32m    172\u001b[0m \u001b[39mtry\u001b[39;00m:\n\u001b[0;32m--> 173\u001b[0m     timing \u001b[39m=\u001b[39m \u001b[39mself\u001b[39;49m\u001b[39m.\u001b[39;49minner(it, \u001b[39mself\u001b[39;49m\u001b[39m.\u001b[39;49mtimer)\n\u001b[1;32m    174\u001b[0m \u001b[39mfinally\u001b[39;00m:\n\u001b[1;32m    175\u001b[0m     \u001b[39mif\u001b[39;00m gcold:\n",
      "File \u001b[0;32m<magic-timeit>:3\u001b[0m, in \u001b[0;36minner\u001b[0;34m(_it, _timer)\u001b[0m\n",
      "\u001b[0;31mAttributeError\u001b[0m: 'tuple' object has no attribute 'append'"
     ]
    }
   ],
   "source": [
    "%%timeit -r 10 -n 10000\n",
    "# Iterate over coplanar indices to build face index lists\n",
    "for face, index in zip(*is_coplanar.nonzero()):\n",
    "    coplanar_indices[face].append(index)"
   ]
  },
  {
   "cell_type": "code",
   "execution_count": null,
   "metadata": {},
   "outputs": [],
   "source": [
    "%%timeit -r 10 -n 10000\n",
    "# Remove duplicate faces, then sort the face indices by their minimum value\n",
    "coplanar_indices = sorted(set(map(tuple, coplanar_indices)), key=lambda x: x[0])"
   ]
  },
  {
   "cell_type": "code",
   "execution_count": null,
   "metadata": {},
   "outputs": [],
   "source": [
    "%%timeit -r 10 -n 10000\n",
    "# Set method is faster: but let's try this\n",
    "# Extract vertex indices from simplex indices and remove duplicates\n",
    "faces = [np.unique(poly.simplices[[ind]]) for ind in coplanar_indices]\n",
    "faces"
   ]
  },
  {
   "cell_type": "code",
   "execution_count": null,
   "metadata": {},
   "outputs": [
    {
     "ename": "NameError",
     "evalue": "name 'self' is not defined",
     "output_type": "error",
     "traceback": [
      "\u001b[0;31m---------------------------------------------------------------------------\u001b[0m",
      "\u001b[0;31mNameError\u001b[0m                                 Traceback (most recent call last)",
      "\u001b[1;32m/Users/jenbradley/github/coxeter/temp.ipynb Cell 26\u001b[0m line \u001b[0;36m3\n\u001b[1;32m      <a href='vscode-notebook-cell:/Users/jenbradley/github/coxeter/temp.ipynb#X34sZmlsZQ%3D%3D?line=0'>1</a>\u001b[0m tol \u001b[39m=\u001b[39m \u001b[39m1e-15\u001b[39m\n\u001b[1;32m      <a href='vscode-notebook-cell:/Users/jenbradley/github/coxeter/temp.ipynb#X34sZmlsZQ%3D%3D?line=1'>2</a>\u001b[0m is_coplanar \u001b[39m=\u001b[39m np\u001b[39m.\u001b[39mall(\n\u001b[0;32m----> <a href='vscode-notebook-cell:/Users/jenbradley/github/coxeter/temp.ipynb#X34sZmlsZQ%3D%3D?line=2'>3</a>\u001b[0m     np\u001b[39m.\u001b[39mabs(\u001b[39mself\u001b[39;49m\u001b[39m.\u001b[39m_simplex_equations[:, \u001b[39mNone\u001b[39;00m] \u001b[39m-\u001b[39m \u001b[39mself\u001b[39m\u001b[39m.\u001b[39m_simplex_equations) \u001b[39m<\u001b[39m tol,\n\u001b[1;32m      <a href='vscode-notebook-cell:/Users/jenbradley/github/coxeter/temp.ipynb#X34sZmlsZQ%3D%3D?line=3'>4</a>\u001b[0m     axis\u001b[39m=\u001b[39m\u001b[39m2\u001b[39m,\n\u001b[1;32m      <a href='vscode-notebook-cell:/Users/jenbradley/github/coxeter/temp.ipynb#X34sZmlsZQ%3D%3D?line=4'>5</a>\u001b[0m )\n\u001b[1;32m      <a href='vscode-notebook-cell:/Users/jenbradley/github/coxeter/temp.ipynb#X34sZmlsZQ%3D%3D?line=5'>6</a>\u001b[0m coplanar_indices \u001b[39m=\u001b[39m [[] \u001b[39mfor\u001b[39;00m _ \u001b[39min\u001b[39;00m \u001b[39mrange\u001b[39m(\u001b[39mlen\u001b[39m(\u001b[39mself\u001b[39m\u001b[39m.\u001b[39m_simplices))]\n\u001b[1;32m      <a href='vscode-notebook-cell:/Users/jenbradley/github/coxeter/temp.ipynb#X34sZmlsZQ%3D%3D?line=7'>8</a>\u001b[0m \u001b[39m# Iterate over coplanar indices to build face index lists\u001b[39;00m\n",
      "\u001b[0;31mNameError\u001b[0m: name 'self' is not defined"
     ]
    }
   ],
   "source": [
    "tol = 1e-15\n",
    "is_coplanar = np.all(\n",
    "    np.abs(self._simplex_equations[:, None] - self._simplex_equations) < tol,\n",
    "    axis=2,\n",
    ")\n",
    "coplanar_indices = [[] for _ in range(len(self._simplices))]\n",
    "\n",
    "# Iterate over coplanar indices to build face index lists\n",
    "for face, index in zip(*is_coplanar.nonzero()):\n",
    "    coplanar_indices[face].append(index)\n",
    "\n",
    "# Remove duplicate faces, then sort the face indices by their minimum value\n",
    "coplanar_indices = sorted(set(map(tuple, coplanar_indices)), key=lambda x: x[0])\n",
    "\n",
    "# Set method is faster: but let's try this\n",
    "# Extract vertex indices from simplex indices and remove duplicates\n",
    "faces = [np.unique(self.simplices[[ind]]) for ind in coplanar_indices]\n",
    "self._faces = faces\n",
    "# self._equations = np.array(list(equation_groups.keys()))"
   ]
  },
  {
   "cell_type": "code",
   "execution_count": 21,
   "metadata": {},
   "outputs": [
    {
     "name": "stdout",
     "output_type": "stream",
     "text": [
      "13.4 µs ± 929 ns per loop (mean ± std. dev. of 20 runs, 100,000 loops each)\n",
      "11.6 µs ± 140 ns per loop (mean ± std. dev. of 20 runs, 100,000 loops each)\n"
     ]
    }
   ],
   "source": [
    "coplanar_indices\n",
    "%timeit -r 20 -n 100000 [np.array(coplanar) for coplanar in coplanar_indices]\n",
    "%timeit -r 20 -n 100000 list(map(np.array,coplanar_indices))"
   ]
  },
  {
   "cell_type": "code",
   "execution_count": 20,
   "metadata": {},
   "outputs": [
    {
     "data": {
      "text/plain": [
       "[array([0]),\n",
       " array([1]),\n",
       " array([2]),\n",
       " array([3]),\n",
       " array([4]),\n",
       " array([5]),\n",
       " array([6]),\n",
       " array([7]),\n",
       " array([8]),\n",
       " array([9]),\n",
       " array([10, 11]),\n",
       " array([12, 13]),\n",
       " array([14, 15, 16]),\n",
       " array([17, 18]),\n",
       " array([19, 20]),\n",
       " array([21, 22]),\n",
       " array([23, 24]),\n",
       " array([25, 26]),\n",
       " array([27, 28, 29]),\n",
       " array([30, 31]),\n",
       " array([32, 33, 34]),\n",
       " array([35, 36]),\n",
       " array([37, 38, 39]),\n",
       " array([40, 41]),\n",
       " array([42, 43]),\n",
       " array([44, 45, 46]),\n",
       " array([47, 48]),\n",
       " array([49, 50, 51]),\n",
       " array([52, 53]),\n",
       " array([54, 55]),\n",
       " array([56, 57, 58]),\n",
       " array([59, 60]),\n",
       " array([61, 62, 63]),\n",
       " array([64, 65]),\n",
       " array([66, 67]),\n",
       " array([68, 69]),\n",
       " array([70, 71, 72, 73, 74, 75, 76, 77]),\n",
       " array([78, 79, 80]),\n",
       " array([81, 82]),\n",
       " array([83, 84, 85, 86, 87, 88, 89, 90]),\n",
       " array([91, 92, 93]),\n",
       " array([94, 95])]"
      ]
     },
     "execution_count": 20,
     "metadata": {},
     "output_type": "execute_result"
    }
   ],
   "source": [
    "list(map(np.array, coplanar_indices))"
   ]
  },
  {
   "cell_type": "code",
   "execution_count": 15,
   "metadata": {},
   "outputs": [
    {
     "data": {
      "text/plain": [
       "[array([0], dtype=int32),\n",
       " array([1], dtype=int32),\n",
       " array([2], dtype=int32),\n",
       " array([3], dtype=int32),\n",
       " array([4], dtype=int32),\n",
       " array([5], dtype=int32),\n",
       " array([6], dtype=int32),\n",
       " array([7], dtype=int32),\n",
       " array([8], dtype=int32),\n",
       " array([9], dtype=int32),\n",
       " array([10, 11], dtype=int32),\n",
       " array([12], dtype=int32),\n",
       " array([13], dtype=int32),\n",
       " array([14], dtype=int32),\n",
       " array([16, 15], dtype=int32),\n",
       " array([17, 18], dtype=int32),\n",
       " array([19], dtype=int32),\n",
       " array([20], dtype=int32),\n",
       " array([21], dtype=int32),\n",
       " array([22], dtype=int32),\n",
       " array([24, 23], dtype=int32),\n",
       " array([25], dtype=int32),\n",
       " array([26], dtype=int32),\n",
       " array([27, 28, 29], dtype=int32),\n",
       " array([30, 31], dtype=int32),\n",
       " array([32, 33, 34], dtype=int32),\n",
       " array([35, 36], dtype=int32),\n",
       " array([37], dtype=int32),\n",
       " array([38, 39], dtype=int32),\n",
       " array([40], dtype=int32),\n",
       " array([41], dtype=int32),\n",
       " array([42, 43], dtype=int32),\n",
       " array([44, 45, 46], dtype=int32),\n",
       " array([47], dtype=int32),\n",
       " array([48], dtype=int32),\n",
       " array([49, 50], dtype=int32),\n",
       " array([51], dtype=int32),\n",
       " array([52], dtype=int32),\n",
       " array([53], dtype=int32),\n",
       " array([54, 55], dtype=int32),\n",
       " array([56, 57, 58], dtype=int32),\n",
       " array([59], dtype=int32),\n",
       " array([60], dtype=int32),\n",
       " array([61, 62, 63], dtype=int32),\n",
       " array([64], dtype=int32),\n",
       " array([65], dtype=int32),\n",
       " array([66], dtype=int32),\n",
       " array([67], dtype=int32),\n",
       " array([68], dtype=int32),\n",
       " array([69], dtype=int32),\n",
       " array([76, 70], dtype=int32),\n",
       " array([71, 73, 74, 75, 77], dtype=int32),\n",
       " array([72], dtype=int32),\n",
       " array([80, 78], dtype=int32),\n",
       " array([79], dtype=int32),\n",
       " array([81], dtype=int32),\n",
       " array([82], dtype=int32),\n",
       " array([83], dtype=int32),\n",
       " array([84, 86, 87, 88, 90], dtype=int32),\n",
       " array([89, 85], dtype=int32),\n",
       " array([91, 92, 93], dtype=int32),\n",
       " array([94, 95], dtype=int32)]"
      ]
     },
     "execution_count": 15,
     "metadata": {},
     "output_type": "execute_result"
    }
   ],
   "source": [
    "poly._coplanar_simplices"
   ]
  },
  {
   "cell_type": "code",
   "execution_count": 24,
   "metadata": {},
   "outputs": [
    {
     "data": {
      "text/plain": [
       "[array([0], dtype=int32),\n",
       " array([1], dtype=int32),\n",
       " array([2], dtype=int32),\n",
       " array([3], dtype=int32),\n",
       " array([4], dtype=int32),\n",
       " array([5], dtype=int32),\n",
       " array([6], dtype=int32),\n",
       " array([7], dtype=int32),\n",
       " array([8], dtype=int32),\n",
       " array([9], dtype=int32)]"
      ]
     },
     "execution_count": 24,
     "metadata": {},
     "output_type": "execute_result"
    }
   ],
   "source": [
    "poly._coplanar_simplices[0:10]"
   ]
  },
  {
   "cell_type": "code",
   "execution_count": 34,
   "metadata": {},
   "outputs": [],
   "source": [
    "verts = johnfam.get_shape(\"Metabidiminished Rhombicosidodecahedron\").vertices\n",
    "verts = cube.vertices"
   ]
  },
  {
   "cell_type": "code",
   "execution_count": 7,
   "metadata": {},
   "outputs": [
    {
     "name": "stdout",
     "output_type": "stream",
     "text": [
      "5.08 ms ± 543 µs per loop (mean ± std. dev. of 10 runs, 100 loops each)\n"
     ]
    }
   ],
   "source": [
    "%%timeit -r 10 -n 100\n",
    "ConvexPolyhedron(mbri.vertices)"
   ]
  },
  {
   "cell_type": "code",
   "execution_count": 8,
   "metadata": {},
   "outputs": [
    {
     "name": "stdout",
     "output_type": "stream",
     "text": [
      "659 µs ± 8.77 µs per loop (mean ± std. dev. of 10 runs, 1,000 loops each)\n"
     ]
    }
   ],
   "source": [
    "%%timeit -r 10 -n 1000\n",
    "ConvexPolyhedron(cube.vertices)"
   ]
  },
  {
   "cell_type": "code",
   "execution_count": 12,
   "metadata": {},
   "outputs": [
    {
     "data": {
      "text/plain": [
       "[array([0]),\n",
       " array([1]),\n",
       " array([2]),\n",
       " array([3]),\n",
       " array([4]),\n",
       " array([5]),\n",
       " array([6]),\n",
       " array([7]),\n",
       " array([8]),\n",
       " array([9]),\n",
       " array([10, 11]),\n",
       " array([12, 13]),\n",
       " array([14, 15, 16]),\n",
       " array([17, 18]),\n",
       " array([19, 20]),\n",
       " array([21, 22]),\n",
       " array([23, 24]),\n",
       " array([25, 26]),\n",
       " array([27, 28, 29]),\n",
       " array([30, 31]),\n",
       " array([32, 33, 34]),\n",
       " array([35, 36]),\n",
       " array([37, 38, 39]),\n",
       " array([40, 41]),\n",
       " array([42, 43]),\n",
       " array([44, 45, 46]),\n",
       " array([47, 48]),\n",
       " array([49, 50, 51]),\n",
       " array([52, 53]),\n",
       " array([54, 55]),\n",
       " array([56, 57, 58]),\n",
       " array([59, 60]),\n",
       " array([61, 62, 63]),\n",
       " array([64, 65]),\n",
       " array([66, 67]),\n",
       " array([68, 69]),\n",
       " array([70, 71, 72, 73, 74, 75, 76, 77]),\n",
       " array([78, 79, 80]),\n",
       " array([81, 82]),\n",
       " array([83, 84, 85, 86, 87, 88, 89, 90]),\n",
       " array([91, 92, 93]),\n",
       " array([94, 95])]"
      ]
     },
     "execution_count": 12,
     "metadata": {},
     "output_type": "execute_result"
    }
   ],
   "source": [
    "poly = mbri\n",
    "tol = 1e-15\n",
    "is_coplanar = np.all(\n",
    "    np.abs(poly._simplex_equations[:, None] - poly._simplex_equations) < tol,\n",
    "    axis=2,\n",
    ")\n",
    "coplanar_indices = [[] for _ in range(len(poly._simplices))]\n",
    "\n",
    "# Iterate over coplanar indices to build face index lists\n",
    "for face, index in zip(*is_coplanar.nonzero()):\n",
    "    coplanar_indices[face].append(index)\n",
    "\n",
    "# Remove duplicate faces, then sort the face indices by their minimum value\n",
    "coplanar_indices = sorted(set(map(tuple, coplanar_indices)), key=lambda x: x[0])\n",
    "\n",
    "# Extract vertex indices from simplex indices and remove duplicates\n",
    "faces = [np.unique(poly.simplices[[ind]]) for ind in coplanar_indices]\n",
    "\n",
    "# Copy the simplex equation for one of the simplices on each face\n",
    "poly._simplex_equations[[equation_index[0] for equation_index in coplanar_indices]]\n",
    "# Convert the simplex indices to numpy arrays and save\n",
    "list(map(np.array, coplanar_indices))"
   ]
  },
  {
   "cell_type": "code",
   "execution_count": null,
   "metadata": {},
   "outputs": [],
   "source": []
  },
  {
   "cell_type": "code",
   "execution_count": 28,
   "metadata": {},
   "outputs": [
    {
     "name": "stdout",
     "output_type": "stream",
     "text": [
      "177 µs ± 5.02 µs per loop (mean ± std. dev. of 10 runs, 10,000 loops each)\n"
     ]
    }
   ],
   "source": [
    "%%timeit -r 10 -n 10000\n",
    "[np.unique(poly.simplices[[ind]]) for ind in coplanar_indices]"
   ]
  },
  {
   "cell_type": "code",
   "execution_count": 8,
   "metadata": {},
   "outputs": [
    {
     "name": "stdout",
     "output_type": "stream",
     "text": [
      "1.07 ms ± 114 µs per loop (mean ± std. dev. of 10 runs, 100 loops each)\n"
     ]
    }
   ],
   "source": [
    "%%timeit -r 10 -n 100\n",
    "# [np.fromiter(set(poly.simplices[[ind]].flat), np.int32) for ind in coplanar_indices]\n",
    "mbri._sort_simplices()"
   ]
  },
  {
   "cell_type": "code",
   "execution_count": 4,
   "metadata": {},
   "outputs": [
    {
     "name": "stdout",
     "output_type": "stream",
     "text": [
      "1.33 ms ± 242 µs per loop (mean ± std. dev. of 10 runs, 1,000 loops each)\n"
     ]
    }
   ],
   "source": [
    "%%timeit -r 10 -n 1000\n",
    "# [np.fromiter(set(poly.simplices[[ind]].flat), np.int32) for ind in coplanar_indices]\n",
    "mbri._sort_simplices()"
   ]
  },
  {
   "cell_type": "code",
   "execution_count": null,
   "metadata": {},
   "outputs": [],
   "source": []
  },
  {
   "cell_type": "code",
   "execution_count": null,
   "metadata": {},
   "outputs": [],
   "source": []
  }
 ],
 "metadata": {
  "kernelspec": {
   "display_name": "Python 3",
   "language": "python",
   "name": "python3"
  },
  "language_info": {
   "codemirror_mode": {
    "name": "ipython",
    "version": 3
   },
   "file_extension": ".py",
   "mimetype": "text/x-python",
   "name": "python",
   "nbconvert_exporter": "python",
   "pygments_lexer": "ipython3",
   "version": "3.11.5"
  }
 },
 "nbformat": 4,
 "nbformat_minor": 2
}

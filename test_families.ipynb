{
 "cells": [
  {
   "cell_type": "code",
   "execution_count": 1,
   "metadata": {},
   "outputs": [],
   "source": [
    "import math\n",
    "\n",
    "import numpy as np\n",
    "from conway.utils.arraymath import _norm3\n",
    "from conway.utils.trig import cot, csc, sec\n",
    "from scipy.spatial import ConvexHull as ch\n",
    "from scipy.spatial import Delaunay\n",
    "\n",
    "from coxeter.families import (\n",
    "    ArchimedeanFamily as archfam,\n",
    ")\n",
    "from coxeter.families import (\n",
    "    JohnsonFamily as johnfam,\n",
    ")\n",
    "from coxeter.families import (\n",
    "    PlatonicFamily as platfam,\n",
    ")\n",
    "from conway.seeds.infinite_shape_families import *\n",
    "\n",
    "from co"
   ]
  },
  {
   "cell_type": "code",
   "execution_count": 2,
   "metadata": {},
   "outputs": [],
   "source": [
    "xeter.shapes import ConvexPolygon, ConvexPolyhedron\n",
    "from coxeter.shapes import ConvexPolyhedron"
   ]
  },
  {
   "cell_type": "code",
   "execution_count": 3,
   "metadata": {},
   "outputs": [],
   "source": [
    "def _make_ngon(n, z=0, A=1, angle=0):\n",
    "    \"\"\"\n",
    "    Make a regular n-gon with area equal to A. The initial vertex  lies on the :math:`x`\n",
    "    axis by default, but can be rotated by the angle parameter.\n",
    "\n",
    "    Args:\n",
    "        n (int): Number of vertices\n",
    "        z (int|float): z value for the polygon. Defaults to 0.\n",
    "        A (int, optional): Area of polygon. Defaults to 1.\n",
    "        angle (float, optional): Rotation angle, in radians. Defaults to 0.\n",
    "\n",
    "    Returns:\n",
    "        np.array: n-gon vertices\n",
    "    \"\"\"\n",
    "    check_domain(n, [3, np.inf])\n",
    "    theta = (\n",
    "        np.arange(0, 2 * np.pi, 2 * np.pi / n) + angle\n",
    "    )  # Generate angle for each point\n",
    "    Ao = 0.5 * n * math.sin(2 * np.pi / n)  # Area of the shape with circumradius = 1\n",
    "\n",
    "    ngon_vertices = np.array([np.cos(theta), np.sin(theta), np.full_like(theta, z)]).T\n",
    "    ngon_vertices[:, :2] *= math.sqrt(A / Ao)  # Rescale the x and y coords to area A\n",
    "\n",
    "    return ngon_vertices"
   ]
  },
  {
   "cell_type": "code",
   "execution_count": 4,
   "metadata": {},
   "outputs": [
    {
     "data": {
      "text/plain": [
       "99.00000000000055"
      ]
     },
     "execution_count": 4,
     "metadata": {},
     "output_type": "execute_result"
    }
   ],
   "source": [
    "vertices = make_vertices_trapezohedron(124, 99.0)\n",
    "ConvexPolyhedron(vertices).volume"
   ]
  },
  {
   "cell_type": "code",
   "execution_count": 5,
   "metadata": {},
   "outputs": [],
   "source": [
    "# parallelepiped\n",
    "# We need three vectors and 4 poitns: OA, OB, OC\n",
    "# How can we construct those vectors from angles and lengths?\n",
    "# αlpha = angle between b and c\n",
    "# beta = angle between a and c\n",
    "# gamma = angle between a and b\n",
    "a = 1\n",
    "b = 1\n",
    "c = 1\n",
    "alpha, beta, gamma = [π / 2, π / 2, π / 2]\n",
    "origin = [0, 0, 0]"
   ]
  },
  {
   "cell_type": "code",
   "execution_count": 6,
   "metadata": {},
   "outputs": [
    {
     "ename": "DomainError",
     "evalue": "Value n=361 is not in domain [180, 360]",
     "output_type": "error",
     "traceback": [
      "\u001b[0;31m---------------------------------------------------------------------------\u001b[0m",
      "\u001b[0;31mDomainError\u001b[0m                               Traceback (most recent call last)",
      "Cell \u001b[0;32mIn[6], line 9\u001b[0m\n\u001b[1;32m      4\u001b[0m c \u001b[38;5;241m=\u001b[39m \u001b[38;5;241m1\u001b[39m\n\u001b[1;32m      5\u001b[0m alpha, beta, gamma \u001b[38;5;241m=\u001b[39m [\u001b[38;5;241m120\u001b[39m, \u001b[38;5;241m120\u001b[39m, \u001b[38;5;241m121\u001b[39m]\n\u001b[1;32m      8\u001b[0m ConvexPolyhedron(\n\u001b[0;32m----> 9\u001b[0m     \u001b[43mmake_vertices_parallelepiped\u001b[49m\u001b[43m(\u001b[49m\u001b[43ma\u001b[49m\u001b[43m,\u001b[49m\u001b[43m \u001b[49m\u001b[43mb\u001b[49m\u001b[43m,\u001b[49m\u001b[43m \u001b[49m\u001b[43mc\u001b[49m\u001b[43m,\u001b[49m\u001b[43m \u001b[49m\u001b[43malpha\u001b[49m\u001b[43m,\u001b[49m\u001b[43m \u001b[49m\u001b[43mbeta\u001b[49m\u001b[43m,\u001b[49m\u001b[43m \u001b[49m\u001b[43mgamma\u001b[49m\u001b[43m,\u001b[49m\u001b[43m \u001b[49m\u001b[43mV\u001b[49m\u001b[38;5;241;43m=\u001b[39;49m\u001b[38;5;241;43m1\u001b[39;49m\u001b[43m)\u001b[49m\n\u001b[1;32m     10\u001b[0m )\u001b[38;5;241m.\u001b[39mplot()\n",
      "File \u001b[0;32m~/github/conway/conway/seeds/infinite_shape_families.py:219\u001b[0m, in \u001b[0;36mmake_vertices_parallelepiped\u001b[0;34m(a, b, c, alpha, beta, gamma, V)\u001b[0m\n\u001b[1;32m    201\u001b[0m \u001b[38;5;28;01mdef\u001b[39;00m \u001b[38;5;21mmake_vertices_parallelepiped\u001b[39m(a\u001b[38;5;241m=\u001b[39m\u001b[38;5;241m1\u001b[39m, b\u001b[38;5;241m=\u001b[39m\u001b[38;5;241m1\u001b[39m, c\u001b[38;5;241m=\u001b[39m\u001b[38;5;241m1\u001b[39m, alpha\u001b[38;5;241m=\u001b[39m\u001b[38;5;241m90\u001b[39m, beta\u001b[38;5;241m=\u001b[39m\u001b[38;5;241m90\u001b[39m, gamma\u001b[38;5;241m=\u001b[39m\u001b[38;5;241m90\u001b[39m, V\u001b[38;5;241m=\u001b[39m\u001b[38;5;28;01mNone\u001b[39;00m):\n\u001b[1;32m    202\u001b[0m \u001b[38;5;250m    \u001b[39m\u001b[38;5;124;03m\"\"\"\u001b[39;00m\n\u001b[1;32m    203\u001b[0m \u001b[38;5;124;03m    Generate a parallelepiped defined by a,b,c,alpha,beta,and gamma.\u001b[39;00m\n\u001b[1;32m    204\u001b[0m \n\u001b[0;32m   (...)\u001b[0m\n\u001b[1;32m    217\u001b[0m \u001b[38;5;124;03m        V (float): Volume of the parallelepiped. Defaults to None. (Keep volume)\u001b[39;00m\n\u001b[1;32m    218\u001b[0m \u001b[38;5;124;03m    \"\"\"\u001b[39;00m\n\u001b[0;32m--> 219\u001b[0m     \u001b[43mcheck_domain\u001b[49m\u001b[43m(\u001b[49m\u001b[43malpha\u001b[49m\u001b[38;5;241;43m+\u001b[39;49m\u001b[43mbeta\u001b[49m\u001b[38;5;241;43m+\u001b[39;49m\u001b[43mgamma\u001b[49m\u001b[43m,\u001b[49m\u001b[43m \u001b[49m\u001b[43m[\u001b[49m\u001b[38;5;241;43m180\u001b[39;49m\u001b[43m,\u001b[49m\u001b[43m \u001b[49m\u001b[38;5;241;43m360\u001b[39;49m\u001b[43m]\u001b[49m\u001b[43m)\u001b[49m\n\u001b[1;32m    221\u001b[0m     alpha \u001b[38;5;241m=\u001b[39m math\u001b[38;5;241m.\u001b[39mradians(alpha)\n\u001b[1;32m    222\u001b[0m     beta \u001b[38;5;241m=\u001b[39m math\u001b[38;5;241m.\u001b[39mradians(beta)\n",
      "File \u001b[0;32m~/github/conway/conway/utils/_errors_and_logging.py:19\u001b[0m, in \u001b[0;36mcheck_domain\u001b[0;34m(value, domain_bounds)\u001b[0m\n\u001b[1;32m     17\u001b[0m \u001b[38;5;28;01mif\u001b[39;00m \u001b[38;5;28mtype\u001b[39m(domain_bounds) \u001b[38;5;241m==\u001b[39m \u001b[38;5;28mlist\u001b[39m:\n\u001b[1;32m     18\u001b[0m     \u001b[38;5;28;01mif\u001b[39;00m \u001b[38;5;129;01mnot\u001b[39;00m (value \u001b[38;5;241m<\u001b[39m\u001b[38;5;241m=\u001b[39m domain_bounds[\u001b[38;5;241m1\u001b[39m] \u001b[38;5;129;01mand\u001b[39;00m value \u001b[38;5;241m>\u001b[39m\u001b[38;5;241m=\u001b[39m domain_bounds[\u001b[38;5;241m0\u001b[39m]):\n\u001b[0;32m---> 19\u001b[0m         \u001b[38;5;28;01mraise\u001b[39;00m DomainError(\u001b[38;5;124mf\u001b[39m\u001b[38;5;124m\"\u001b[39m\u001b[38;5;124mValue n=\u001b[39m\u001b[38;5;132;01m{\u001b[39;00mvalue\u001b[38;5;132;01m}\u001b[39;00m\u001b[38;5;124m is not in domain \u001b[39m\u001b[38;5;132;01m{\u001b[39;00mdomain_bounds\u001b[38;5;132;01m}\u001b[39;00m\u001b[38;5;124m\"\u001b[39m)\n\u001b[1;32m     20\u001b[0m \u001b[38;5;28;01melif\u001b[39;00m \u001b[38;5;28mtype\u001b[39m(domain_bounds) \u001b[38;5;241m==\u001b[39m \u001b[38;5;28mtuple\u001b[39m:\n\u001b[1;32m     21\u001b[0m     \u001b[38;5;28;01mif\u001b[39;00m \u001b[38;5;129;01mnot\u001b[39;00m (value \u001b[38;5;241m<\u001b[39m domain_bounds[\u001b[38;5;241m1\u001b[39m] \u001b[38;5;129;01mand\u001b[39;00m value \u001b[38;5;241m>\u001b[39m domain_bounds[\u001b[38;5;241m0\u001b[39m]):\n",
      "\u001b[0;31mDomainError\u001b[0m: Value n=361 is not in domain [180, 360]"
     ]
    }
   ],
   "source": [
    "# So what are our points?\n",
    "a = 1\n",
    "b = 1\n",
    "c = 1\n",
    "alpha, beta, gamma = [120, 120, 121]\n",
    "\n",
    "\n",
    "ConvexPolyhedron(make_vertices_parallelepiped(a, b, c, alpha, beta, gamma, V=1)).plot()"
   ]
  },
  {
   "cell_type": "code",
   "execution_count": null,
   "metadata": {},
   "outputs": [],
   "source": []
  },
  {
   "cell_type": "code",
   "execution_count": null,
   "metadata": {},
   "outputs": [
    {
     "ename": "NameError",
     "evalue": "name 'oa' is not defined",
     "output_type": "error",
     "traceback": [
      "\u001b[0;31m---------------------------------------------------------------------------\u001b[0m",
      "\u001b[0;31mNameError\u001b[0m                                 Traceback (most recent call last)",
      "Cell \u001b[0;32mIn[7], line 1\u001b[0m\n\u001b[0;32m----> 1\u001b[0m u, v, w \u001b[38;5;241m=\u001b[39m \u001b[43moa\u001b[49m\n\u001b[1;32m      2\u001b[0m x, y, z \u001b[38;5;241m=\u001b[39m ob\n\u001b[1;32m      3\u001b[0m [\n\u001b[1;32m      4\u001b[0m     c \u001b[38;5;241m*\u001b[39m cos(alpha) \u001b[38;5;241m+\u001b[39m a \u001b[38;5;241m*\u001b[39m cos(beta) \u001b[38;5;241m*\u001b[39m u,\n\u001b[1;32m      5\u001b[0m     c \u001b[38;5;241m*\u001b[39m cos(alpha) \u001b[38;5;241m*\u001b[39m y \u001b[38;5;241m+\u001b[39m a \u001b[38;5;241m*\u001b[39m cos(beta) \u001b[38;5;241m*\u001b[39m v,\n\u001b[1;32m      6\u001b[0m     c \u001b[38;5;241m*\u001b[39m cos(alpha) \u001b[38;5;241m*\u001b[39m z \u001b[38;5;241m+\u001b[39m a \u001b[38;5;241m*\u001b[39m cos(beta) \u001b[38;5;241m*\u001b[39m w,\n\u001b[1;32m      7\u001b[0m ]\n",
      "\u001b[0;31mNameError\u001b[0m: name 'oa' is not defined"
     ]
    }
   ],
   "source": [
    "u, v, w = oa\n",
    "x, y, z = ob\n",
    "[\n",
    "    c * cos(alpha) + a * cos(beta) * u,\n",
    "    c * cos(alpha) * y + a * cos(beta) * v,\n",
    "    c * cos(alpha) * z + a * cos(beta) * w,\n",
    "]"
   ]
  },
  {
   "cell_type": "code",
   "execution_count": null,
   "metadata": {},
   "outputs": [
    {
     "data": {
      "text/plain": [
       "array([6.123234e-17, 6.123234e-17, 0.000000e+00])"
      ]
     },
     "execution_count": 49,
     "metadata": {},
     "output_type": "execute_result"
    }
   ],
   "source": []
  },
  {
   "cell_type": "code",
   "execution_count": null,
   "metadata": {},
   "outputs": [],
   "source": []
  },
  {
   "cell_type": "code",
   "execution_count": null,
   "metadata": {},
   "outputs": [],
   "source": []
  }
 ],
 "metadata": {
  "kernelspec": {
   "display_name": "Python 3",
   "language": "python",
   "name": "python3"
  },
  "language_info": {
   "codemirror_mode": {
    "name": "ipython",
    "version": 3
   },
   "file_extension": ".py",
   "mimetype": "text/x-python",
   "name": "python",
   "nbconvert_exporter": "python",
   "pygments_lexer": "ipython3",
   "version": "3.11.5"
  }
 },
 "nbformat": 4,
 "nbformat_minor": 2
}

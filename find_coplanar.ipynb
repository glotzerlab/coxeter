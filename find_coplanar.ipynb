{
 "cells": [
  {
   "cell_type": "code",
   "execution_count": 1,
   "metadata": {},
   "outputs": [],
   "source": [
    "import numpy as np\n",
    "from scipy.spatial import ConvexHull as ch\n",
    "from scipy.spatial import Delaunay\n",
    "\n",
    "from coxeter.families import (\n",
    "    ArchimedeanFamily as archfam,\n",
    ")\n",
    "from coxeter.families import (\n",
    "    JohnsonFamily as johnfam,\n",
    ")\n",
    "from coxeter.families import (\n",
    "    PlatonicFamily as platfam,\n",
    ")\n",
    "from coxeter.shapes import ConvexPolyhedron"
   ]
  },
  {
   "cell_type": "code",
   "execution_count": null,
   "metadata": {},
   "outputs": [],
   "source": [
    "# DISCUSSION : find coplanar is pretty close to optimal. What I have written is an O(N) algorithm, so even though it\n",
    "# does not use numpy it is very fast."
   ]
  },
  {
   "cell_type": "code",
   "execution_count": null,
   "metadata": {},
   "outputs": [],
   "source": []
  },
  {
   "cell_type": "code",
   "execution_count": 2,
   "metadata": {},
   "outputs": [],
   "source": [
    "cube = platfam.get_shape(\"Cube\")\n",
    "tetr = platfam.get_shape(\"Tetrahedron\")\n",
    "mbri = johnfam.get_shape(\"Metabidiminished Rhombicosidodecahedron\")\n",
    "icosi = archfam.get_shape(\"Icosidodecahedron\")\n",
    "poly = mbri"
   ]
  },
  {
   "cell_type": "code",
   "execution_count": 3,
   "metadata": {},
   "outputs": [
    {
     "data": {
      "text/plain": [
       "array([[ True, False, False, ..., False, False, False],\n",
       "       [False,  True, False, ..., False, False, False],\n",
       "       [False, False,  True, ..., False, False, False],\n",
       "       ...,\n",
       "       [False, False, False, ...,  True, False, False],\n",
       "       [False, False, False, ..., False,  True,  True],\n",
       "       [False, False, False, ..., False,  True,  True]])"
      ]
     },
     "execution_count": 3,
     "metadata": {},
     "output_type": "execute_result"
    }
   ],
   "source": [
    "hull = ch(poly.vertices, \"\")\n",
    "normals = hull.equations[:, :3]\n",
    "boolean_coplanars = np.all(normals[:, None] == normals, axis=-1)\n",
    "boolean_coplanars"
   ]
  },
  {
   "cell_type": "code",
   "execution_count": 4,
   "metadata": {},
   "outputs": [],
   "source": [
    "rows = np.arange(0, hull.nsimplex)\n",
    "coplanarray = np.tile(np.arange(0, hull.nsimplex), (hull.nsimplex, 1))\n",
    "# coplanarray"
   ]
  },
  {
   "cell_type": "code",
   "execution_count": 5,
   "metadata": {},
   "outputs": [
    {
     "name": "stdout",
     "output_type": "stream",
     "text": [
      "271 µs ± 14.5 µs per loop (mean ± std. dev. of 10 runs, 1,000 loops each)\n"
     ]
    }
   ],
   "source": [
    "%%timeit -r 10 -n 1000\n",
    "boolean_coplanars = np.all(normals[:, None] == normals, axis=-1)\n",
    "rows = np.arange(0, hull.nsimplex)\n",
    "coplanar_simplices = {tuple(rows[boolean_coplanars[i]]) for i in range(hull.nsimplex)}\n",
    "# Do we need to guarantee that the order of coplanars is the same\n",
    "coplanar_simplices"
   ]
  },
  {
   "cell_type": "code",
   "execution_count": 6,
   "metadata": {},
   "outputs": [
    {
     "data": {
      "text/plain": [
       "(96,\n",
       " [array([0]),\n",
       "  array([1]),\n",
       "  array([2]),\n",
       "  array([3]),\n",
       "  array([4]),\n",
       "  array([5]),\n",
       "  array([6]),\n",
       "  array([7]),\n",
       "  array([8]),\n",
       "  array([9]),\n",
       "  array([10, 11]),\n",
       "  array([10, 11]),\n",
       "  array([12, 13]),\n",
       "  array([12, 13]),\n",
       "  array([14, 15, 16]),\n",
       "  array([14, 15, 16]),\n",
       "  array([14, 15, 16]),\n",
       "  array([17, 18]),\n",
       "  array([17, 18]),\n",
       "  array([19, 20]),\n",
       "  array([19, 20]),\n",
       "  array([21, 22]),\n",
       "  array([21, 22]),\n",
       "  array([23, 24]),\n",
       "  array([23, 24]),\n",
       "  array([25, 26]),\n",
       "  array([25, 26]),\n",
       "  array([27, 28, 29]),\n",
       "  array([27, 28, 29]),\n",
       "  array([27, 28, 29]),\n",
       "  array([30, 31]),\n",
       "  array([30, 31]),\n",
       "  array([32, 33, 34]),\n",
       "  array([32, 33, 34]),\n",
       "  array([32, 33, 34]),\n",
       "  array([35, 36]),\n",
       "  array([35, 36]),\n",
       "  array([37, 38, 39]),\n",
       "  array([37, 38, 39]),\n",
       "  array([37, 38, 39]),\n",
       "  array([40, 41]),\n",
       "  array([40, 41]),\n",
       "  array([42, 43]),\n",
       "  array([42, 43]),\n",
       "  array([44, 45, 46]),\n",
       "  array([44, 45, 46]),\n",
       "  array([44, 45, 46]),\n",
       "  array([47, 48]),\n",
       "  array([47, 48]),\n",
       "  array([49, 50, 51]),\n",
       "  array([49, 50, 51]),\n",
       "  array([49, 50, 51]),\n",
       "  array([52, 53]),\n",
       "  array([52, 53]),\n",
       "  array([54, 55]),\n",
       "  array([54, 55]),\n",
       "  array([56, 57, 58]),\n",
       "  array([56, 57, 58]),\n",
       "  array([56, 57, 58]),\n",
       "  array([59, 60]),\n",
       "  array([59, 60]),\n",
       "  array([61, 62, 63]),\n",
       "  array([61, 62, 63]),\n",
       "  array([61, 62, 63]),\n",
       "  array([64, 65]),\n",
       "  array([64, 65]),\n",
       "  array([66, 67]),\n",
       "  array([66, 67]),\n",
       "  array([68, 69]),\n",
       "  array([68, 69]),\n",
       "  array([70, 71, 72, 73, 74, 75, 76, 77]),\n",
       "  array([70, 71, 72, 73, 74, 75, 76, 77]),\n",
       "  array([70, 71, 72, 73, 74, 75, 76, 77]),\n",
       "  array([70, 71, 72, 73, 74, 75, 76, 77]),\n",
       "  array([70, 71, 72, 73, 74, 75, 76, 77]),\n",
       "  array([70, 71, 72, 73, 74, 75, 76, 77]),\n",
       "  array([70, 71, 72, 73, 74, 75, 76, 77]),\n",
       "  array([70, 71, 72, 73, 74, 75, 76, 77]),\n",
       "  array([78, 79, 80]),\n",
       "  array([78, 79, 80]),\n",
       "  array([78, 79, 80]),\n",
       "  array([81, 82]),\n",
       "  array([81, 82]),\n",
       "  array([83, 84, 85, 86, 87, 88, 89, 90]),\n",
       "  array([83, 84, 85, 86, 87, 88, 89, 90]),\n",
       "  array([83, 84, 85, 86, 87, 88, 89, 90]),\n",
       "  array([83, 84, 85, 86, 87, 88, 89, 90]),\n",
       "  array([83, 84, 85, 86, 87, 88, 89, 90]),\n",
       "  array([83, 84, 85, 86, 87, 88, 89, 90]),\n",
       "  array([83, 84, 85, 86, 87, 88, 89, 90]),\n",
       "  array([83, 84, 85, 86, 87, 88, 89, 90]),\n",
       "  array([91, 92, 93]),\n",
       "  array([91, 92, 93]),\n",
       "  array([91, 92, 93]),\n",
       "  array([94, 95]),\n",
       "  array([94, 95])])"
      ]
     },
     "execution_count": 6,
     "metadata": {},
     "output_type": "execute_result"
    }
   ],
   "source": [
    "boolean_coplanars = np.all(normals[:, None] == normals, axis=-1)\n",
    "simplex_indices = np.arange(0, hull.nsimplex)\n",
    "coplanar_simplices = [\n",
    "    simplex_indices[boolean_coplanars[i]] for i in range(hull.nsimplex)\n",
    "]\n",
    "# We need to guarantee that the ORDER of coplanar simplices is identical to the original order\n",
    "len(coplanar_simplices), coplanar_simplices"
   ]
  },
  {
   "cell_type": "code",
   "execution_count": 7,
   "metadata": {},
   "outputs": [
    {
     "data": {
      "text/plain": [
       "array([[ True, False, False, ..., False, False, False],\n",
       "       [False,  True, False, ..., False, False, False],\n",
       "       [False, False,  True, ..., False, False, False],\n",
       "       ...,\n",
       "       [False, False, False, ...,  True, False, False],\n",
       "       [False, False, False, ..., False,  True,  True],\n",
       "       [False, False, False, ..., False,  True,  True]])"
      ]
     },
     "execution_count": 7,
     "metadata": {},
     "output_type": "execute_result"
    }
   ],
   "source": [
    "boolean_coplanars"
   ]
  },
  {
   "cell_type": "code",
   "execution_count": 8,
   "metadata": {},
   "outputs": [],
   "source": [
    "# simplex_indices[:, None][boolean_coplanars]"
   ]
  },
  {
   "cell_type": "code",
   "execution_count": 9,
   "metadata": {},
   "outputs": [],
   "source": [
    "nanarray = np.full_like(boolean_coplanars, np.nan, dtype=float)"
   ]
  },
  {
   "cell_type": "code",
   "execution_count": 10,
   "metadata": {},
   "outputs": [
    {
     "name": "stdout",
     "output_type": "stream",
     "text": [
      "[[ 0. nan nan ... nan nan nan]\n",
      " [nan  1. nan ... nan nan nan]\n",
      " [nan nan  2. ... nan nan nan]\n",
      " ...\n",
      " [nan nan nan ... 93. nan nan]\n",
      " [nan nan nan ... nan 94. 95.]\n",
      " [nan nan nan ... nan 94. 95.]]\n"
     ]
    }
   ],
   "source": [
    "print(np.where(boolean_coplanars, coplanarray, np.nan))"
   ]
  },
  {
   "cell_type": "code",
   "execution_count": 11,
   "metadata": {},
   "outputs": [
    {
     "name": "stdout",
     "output_type": "stream",
     "text": [
      "6.75 µs ± 224 ns per loop (mean ± std. dev. of 10 runs, 100,000 loops each)\n"
     ]
    }
   ],
   "source": [
    "%timeit -r 10 -n 100000 np.where(boolean_coplanars, coplanarray, np.nan)"
   ]
  },
  {
   "cell_type": "code",
   "execution_count": 12,
   "metadata": {},
   "outputs": [
    {
     "data": {
      "text/plain": [
       "array([[-1, -1, -1, ..., -1, 94, 95],\n",
       "       [-1, -1, -1, ..., 93, -1, -1],\n",
       "       [-1, -1, -1, ..., -1, -1, -1],\n",
       "       ...,\n",
       "       [-1, -1,  2, ..., -1, -1, -1],\n",
       "       [-1,  1, -1, ..., -1, -1, -1],\n",
       "       [ 0, -1, -1, ..., -1, -1, -1]])"
      ]
     },
     "execution_count": 12,
     "metadata": {},
     "output_type": "execute_result"
    }
   ],
   "source": [
    "nancop = np.where(boolean_coplanars, coplanarray, -1)\n",
    "\n",
    "nancop = np.unique(nancop, axis=0)\n",
    "nancop"
   ]
  },
  {
   "cell_type": "code",
   "execution_count": 13,
   "metadata": {},
   "outputs": [],
   "source": [
    "# %timeit -r 10 -n 10000\n",
    "# [set(nancop[i]) - {-1} for i in range(hull.nsimplex)]"
   ]
  },
  {
   "cell_type": "code",
   "execution_count": 16,
   "metadata": {},
   "outputs": [
    {
     "data": {
      "text/plain": [
       "array([[ 0,  0,  0, ...,  0,  0,  0],\n",
       "       [ 0,  1,  0, ...,  0,  0,  0],\n",
       "       [ 0,  0,  2, ...,  0,  0,  0],\n",
       "       ...,\n",
       "       [ 0,  0,  0, ..., 93,  0,  0],\n",
       "       [ 0,  0,  0, ...,  0, 94, 95],\n",
       "       [ 0,  0,  0, ...,  0, 94, 95]])"
      ]
     },
     "execution_count": 16,
     "metadata": {},
     "output_type": "execute_result"
    }
   ],
   "source": [
    "boolean_coplanars * simplex_indices"
   ]
  },
  {
   "cell_type": "code",
   "execution_count": 17,
   "metadata": {},
   "outputs": [
    {
     "data": {
      "text/plain": [
       "array([ 0,  1,  2,  3,  4,  5,  6,  7,  8,  9, 10, 11, 12, 13, 14, 15, 16,\n",
       "       17, 18, 19, 20, 21, 22, 23, 24, 25, 26, 27, 28, 29, 30, 31, 32, 33,\n",
       "       34, 35, 36, 37, 38, 39, 40, 41, 42, 43, 44, 45, 46, 47, 48, 49, 50,\n",
       "       51, 52, 53, 54, 55, 56, 57, 58, 59, 60, 61, 62, 63, 64, 65, 66, 67,\n",
       "       68, 69, 70, 71, 72, 73, 74, 75, 76, 77, 78, 79, 80, 81, 82, 83, 84,\n",
       "       85, 86, 87, 88, 89, 90, 91, 92, 93, 94, 95])"
      ]
     },
     "execution_count": 17,
     "metadata": {},
     "output_type": "execute_result"
    }
   ],
   "source": [
    "simplex_indices"
   ]
  },
  {
   "cell_type": "code",
   "execution_count": 18,
   "metadata": {},
   "outputs": [
    {
     "data": {
      "text/plain": [
       "array([[ 1,  0,  0, ...,  0,  0,  0],\n",
       "       [ 0,  2,  0, ...,  0,  0,  0],\n",
       "       [ 0,  0,  3, ...,  0,  0,  0],\n",
       "       ...,\n",
       "       [ 0,  0,  0, ..., 94,  0,  0],\n",
       "       [ 0,  0,  0, ...,  0, 95, 96],\n",
       "       [ 0,  0,  0, ...,  0, 95, 96]])"
      ]
     },
     "execution_count": 18,
     "metadata": {},
     "output_type": "execute_result"
    }
   ],
   "source": [
    "(simplex_indices + 1) * boolean_coplanars"
   ]
  },
  {
   "cell_type": "code",
   "execution_count": 20,
   "metadata": {},
   "outputs": [
    {
     "name": "stdout",
     "output_type": "stream",
     "text": [
      "811 µs ± 58.2 µs per loop (mean ± std. dev. of 10 runs, 1,000 loops each)\n"
     ]
    }
   ],
   "source": [
    "%%timeit -r 10 -n 1000\n",
    "_, idx = np.unique(boolean_coplanars, axis=0, return_index=True)\n",
    "boolean_coplanars[np.sort(idx)]"
   ]
  },
  {
   "cell_type": "code",
   "execution_count": null,
   "metadata": {},
   "outputs": [
    {
     "name": "stdout",
     "output_type": "stream",
     "text": [
      "209 µs ± 2.23 µs per loop (mean ± std. dev. of 10 runs, 1,000 loops each)\n"
     ]
    }
   ],
   "source": [
    "%%timeit -r 10 -n 1000\n",
    "mbri._find_coplanar_simplices()"
   ]
  },
  {
   "cell_type": "code",
   "execution_count": 21,
   "metadata": {},
   "outputs": [
    {
     "ename": "TypeError",
     "evalue": "'float' object cannot be interpreted as an integer",
     "output_type": "error",
     "traceback": [
      "\u001b[0;31m---------------------------------------------------------------------------\u001b[0m",
      "\u001b[0;31mTypeError\u001b[0m                                 Traceback (most recent call last)",
      "\u001b[1;32m/Users/jenbradley/github/coxeter/find_coplanar.ipynb Cell 21\u001b[0m line \u001b[0;36m1\n\u001b[0;32m----> <a href='vscode-notebook-cell:/Users/jenbradley/github/coxeter/find_coplanar.ipynb#X35sZmlsZQ%3D%3D?line=0'>1</a>\u001b[0m cube\u001b[39m.\u001b[39;49mvertices\u001b[39m.\u001b[39;49mround(\u001b[39m1e-15\u001b[39;49m)\n",
      "\u001b[0;31mTypeError\u001b[0m: 'float' object cannot be interpreted as an integer"
     ]
    }
   ],
   "source": [
    "cube.vertices.round(1e-15)"
   ]
  },
  {
   "cell_type": "code",
   "execution_count": null,
   "metadata": {},
   "outputs": [],
   "source": []
  },
  {
   "cell_type": "code",
   "execution_count": null,
   "metadata": {},
   "outputs": [],
   "source": []
  },
  {
   "cell_type": "code",
   "execution_count": null,
   "metadata": {},
   "outputs": [],
   "source": []
  }
 ],
 "metadata": {
  "kernelspec": {
   "display_name": "Python 3",
   "language": "python",
   "name": "python3"
  },
  "language_info": {
   "codemirror_mode": {
    "name": "ipython",
    "version": 3
   },
   "file_extension": ".py",
   "mimetype": "text/x-python",
   "name": "python",
   "nbconvert_exporter": "python",
   "pygments_lexer": "ipython3",
   "version": "3.11.5"
  }
 },
 "nbformat": 4,
 "nbformat_minor": 2
}

{
 "cells": [
  {
   "cell_type": "code",
   "execution_count": 1,
   "metadata": {},
   "outputs": [],
   "source": [
    "import csv\n",
    "from pathlib import Path\n",
    "\n",
    "import numpy as np\n",
    "\n",
    "import coxeter"
   ]
  },
  {
   "cell_type": "code",
   "execution_count": 54,
   "metadata": {},
   "outputs": [
    {
     "name": "stdout",
     "output_type": "stream",
     "text": [
      "Name mismatch found for J86: paper_name = 'Sphenocorona', coxeter_name = 'Spenocorona'\n"
     ]
    }
   ],
   "source": [
    "# Check equivalence between data in coxeter and csv that I made\n",
    "paths = [\n",
    "    Path(\"doc/source/_data/science.1220869.archimedean.csv\"),\n",
    "    Path(\"doc/source/_data/science.1220869.catalan.csv\"),\n",
    "    Path(\"doc/source/_data/science.1220869.johnson.csv\"),\n",
    "    Path(\"doc/source/_data/science.1220869.other.csv\"),\n",
    "    Path(\"doc/source/_data/science.1220869.platonic.csv\"),\n",
    "]\n",
    "for file_path in paths:\n",
    "    with open(file_path, newline=\"\") as infile:\n",
    "        reader = csv.reader(infile, delimiter=\",\")\n",
    "\n",
    "        for i, (id, paper_name) in enumerate(reader):\n",
    "            if i != 0:\n",
    "                coxeter_name = coxeter.families.DOI_SHAPE_REPOSITORIES[\n",
    "                    \"10.1126/science.1220869\"\n",
    "                ][0].data[id][\"name\"]\n",
    "                if paper_name != coxeter_name:\n",
    "                    print(\n",
    "                        f\"Name mismatch found for {id}: {paper_name = }, {coxeter_name = }\"\n",
    "                    )"
   ]
  },
  {
   "cell_type": "markdown",
   "metadata": {},
   "source": [
    "This is a typo in coxeter - Spenocoronoa should be Sphenocorona. I've updated the data file in coxeter to reflect this."
   ]
  },
  {
   "cell_type": "markdown",
   "metadata": {},
   "source": [
    "Create X3D files - note the modified io function to ensure that there is a viewpoint element"
   ]
  },
  {
   "cell_type": "code",
   "execution_count": 5,
   "metadata": {},
   "outputs": [],
   "source": [
    "from xml.etree import ElementTree\n",
    "\n",
    "\n",
    "def to_x3d(shape, filename):\n",
    "    \"\"\"Save shape to an Extensible 3D (X3D) file.\n",
    "\n",
    "    Args:\n",
    "        filename (str, pathlib.Path, or os.PathLike):\n",
    "            The name or path of the output file, including the extension.\n",
    "\n",
    "    Raises\n",
    "    ------\n",
    "        OSError: If open() encounters a problem.\n",
    "    \"\"\"\n",
    "\n",
    "    # Parent elements\n",
    "    root = ElementTree.Element(\n",
    "        \"x3d\",\n",
    "        attrib={\n",
    "            \"profile\": \"Interchange\",\n",
    "            \"version\": \"4.0\",\n",
    "            \"xmlns:xsd\": \"http://www.w3.org/2001/XMLSchema-instance\",\n",
    "            \"xsd:schemaLocation\": \"http://www.web3d.org/specifications/x3d-4.0.xsd\",\n",
    "        },\n",
    "    )\n",
    "    x3d_scene = ElementTree.SubElement(root, \"Scene\")\n",
    "\n",
    "    # Faces\n",
    "    x3d_shape_faces = ElementTree.SubElement(\n",
    "        x3d_scene, \"shape\", attrib={\"DEF\": f\"{shape.__class__.__name__} Faces\"}\n",
    "    )\n",
    "\n",
    "    x3d_appearance = ElementTree.SubElement(x3d_shape_faces, \"Appearance\")\n",
    "    ElementTree.SubElement(\n",
    "        x3d_appearance, \"Material\", attrib={\"diffuseColor\": \"#6495ED\"}\n",
    "    )\n",
    "\n",
    "    # Faces Geometry data\n",
    "    point_indices = list(range(sum([len(f) for f in shape.faces])))\n",
    "    prev_index = 0\n",
    "    for f in shape.faces:\n",
    "        point_indices.insert(len(f) + prev_index, -1)\n",
    "        prev_index += len(f) + 1\n",
    "\n",
    "    points = [v for f in shape.faces for v_index in f for v in shape.vertices[v_index]]\n",
    "\n",
    "    x3d_indexedfaceset = ElementTree.SubElement(\n",
    "        x3d_shape_faces,\n",
    "        \"IndexedFaceSet\",\n",
    "        attrib={\"coordIndex\": \" \".join([str(c_index) for c_index in point_indices])},\n",
    "    )\n",
    "    ElementTree.SubElement(\n",
    "        x3d_indexedfaceset,\n",
    "        \"Coordinate\",\n",
    "        attrib={\"point\": \" \".join([str(p) for p in points])},\n",
    "    )\n",
    "\n",
    "    # Outline/Edges\n",
    "    x3d_shape_edges = ElementTree.SubElement(\n",
    "        x3d_scene, \"shape\", attrib={\"DEF\": f\"{shape.__class__.__name__} Edges\"}\n",
    "    )\n",
    "\n",
    "    x3d_appearance = ElementTree.SubElement(x3d_shape_edges, \"Appearance\")\n",
    "    ElementTree.SubElement(\n",
    "        x3d_appearance, \"LineProperties\", attrib={\"linewidthScaleFactor\": \"0\"}\n",
    "    )\n",
    "\n",
    "    # Outline/Edges Geometry data\n",
    "    point_indices = list(range(sum([len(f) for f in shape.faces])))\n",
    "    prev_index = 0\n",
    "    for f in shape.faces:\n",
    "        point_indices.insert(len(f) + prev_index, -1)\n",
    "        prev_index += len(f) + 1\n",
    "\n",
    "    points = [v for f in shape.faces for v_index in f for v in shape.vertices[v_index]]\n",
    "\n",
    "    x3d_indexedfaceset = ElementTree.SubElement(\n",
    "        x3d_shape_edges,\n",
    "        \"IndexedLineSet\",\n",
    "        attrib={\"coordIndex\": \" \".join([str(c_index) for c_index in point_indices])},\n",
    "    )\n",
    "    ElementTree.SubElement(\n",
    "        x3d_indexedfaceset,\n",
    "        \"Coordinate\",\n",
    "        attrib={\"point\": \" \".join([str(p) for p in points])},\n",
    "    )\n",
    "\n",
    "    # Position the camera\n",
    "    try:\n",
    "        camera_pos_z = 3 * shape.circumsphere_radius\n",
    "    except RuntimeError:\n",
    "        widths = np.max(shape.vertices, axis=0) - np.min(shape.vertices, axis=0)\n",
    "        camera_pos_z = (3 / 2) * (np.max(widths))\n",
    "\n",
    "    x3d_viewpoint = ElementTree.SubElement(\n",
    "        x3d_scene,\n",
    "        \"Viewpoint\",\n",
    "        attrib={\n",
    "            \"position\": f\"0,0,{camera_pos_z}\",  # Note the hardcoded position\n",
    "            \"centerOfRotation\": \",\".join(map(str, np.around(shape.centroid, 3))),\n",
    "        },\n",
    "    )\n",
    "\n",
    "    # Write to file\n",
    "    ElementTree.ElementTree(root).write(filename, encoding=\"UTF-8\")"
   ]
  },
  {
   "cell_type": "code",
   "execution_count": 6,
   "metadata": {},
   "outputs": [],
   "source": [
    "paths = [\n",
    "    Path(\"doc/source/_data/science.1220869.archimedean.csv\"),\n",
    "    Path(\"doc/source/_data/science.1220869.catalan.csv\"),\n",
    "    Path(\"doc/source/_data/science.1220869.johnson.csv\"),\n",
    "    Path(\"doc/source/_data/science.1220869.other.csv\"),\n",
    "    Path(\"doc/source/_data/science.1220869.platonic.csv\"),\n",
    "]\n",
    "\n",
    "for file_path in paths:\n",
    "    with open(file_path, newline=\"\") as infile:\n",
    "        reader = csv.reader(infile, delimiter=\",\")\n",
    "\n",
    "        with open(\n",
    "            file_path.parent / (file_path.stem + \"_processed.csv\"), \"w\", newline=\"\"\n",
    "        ) as outfile:\n",
    "            writer = csv.writer(outfile)\n",
    "\n",
    "            for i, (id, name) in enumerate(reader):\n",
    "                if i != 0:\n",
    "                    shape = coxeter.families.DOI_SHAPE_REPOSITORIES[\n",
    "                        \"10.1126/science.1220869\"\n",
    "                    ][0].get_shape(id)\n",
    "                    newfilepath = Path(\n",
    "                        \"/home/joseph/GlotzerGroup/coxeter/doc/source/_static\"\n",
    "                    ) / (name.lower().replace(\" \", \"_\") + \".x3d\")\n",
    "                    to_x3d(shape, newfilepath)"
   ]
  },
  {
   "cell_type": "code",
   "execution_count": 7,
   "metadata": {},
   "outputs": [],
   "source": [
    "paths = [\n",
    "    Path(\"doc/source/_data/science.1220869.archimedean.csv\"),\n",
    "    Path(\"doc/source/_data/science.1220869.catalan.csv\"),\n",
    "    Path(\"doc/source/_data/science.1220869.johnson.csv\"),\n",
    "    Path(\"doc/source/_data/science.1220869.other.csv\"),\n",
    "    Path(\"doc/source/_data/science.1220869.platonic.csv\"),\n",
    "]\n",
    "\n",
    "for file_path in paths:\n",
    "    with open(file_path, newline=\"\") as infile:\n",
    "        reader = csv.reader(infile, delimiter=\",\")\n",
    "\n",
    "        with open(\n",
    "            file_path.parent / (file_path.stem + \"_processed.csv\"), \"w\", newline=\"\"\n",
    "        ) as outfile:\n",
    "            writer = csv.writer(outfile)\n",
    "\n",
    "            for i, (id, name) in enumerate(reader):\n",
    "                if i == 0:\n",
    "                    writer.writerow([\"ID\", \"Name\", \"Vertices\", \"Faces\", \"Model\"])\n",
    "                else:\n",
    "                    shape = coxeter.families.DOI_SHAPE_REPOSITORIES[\n",
    "                        \"10.1126/science.1220869\"\n",
    "                    ][0].get_shape(id)\n",
    "                    vertices = shape.num_vertices\n",
    "                    faces = shape.num_faces\n",
    "                    model_info = (\n",
    "                        f\":model:`_static/{name.lower().replace(' ', '_')}.x3d`\"\n",
    "                    )\n",
    "                    writer.writerow([id, name, vertices, faces, model_info])"
   ]
  },
  {
   "cell_type": "markdown",
   "metadata": {},
   "source": [
    "TODO:\n",
    "- add collapsibility so that browser is never trying to load all of the x3ds at once\n",
    "    - if collapsibility does not solve the problem, we might need to try iframes again\n",
    "        - now that I've figured out how to get the styling for X3D correct, iframes may not be as bad as they were"
   ]
  },
  {
   "cell_type": "code",
   "execution_count": 10,
   "metadata": {},
   "outputs": [
    {
     "name": "stderr",
     "output_type": "stream",
     "text": [
      "/tmp/ipykernel_1950/1266586993.py:3: DeprecationWarning: PrismAntiprismFamily has been deprecated in favor of UniformPrismFamily and UniformAntiprismFamily. These alternate classes have a simplified interface and support the entire infinite family of geometries.\n",
      "  shape = coxeter.families.PrismAntiprismFamily.get_shape(\"Square Prism\")\n"
     ]
    }
   ],
   "source": [
    "import coxeter\n",
    "\n",
    "# Create Square Prism and Triangular Antiprism X3D models\n",
    "shape = coxeter.families.PrismAntiprismFamily.get_shape(\"Square Prism\")\n",
    "coxeter.io.to_x3d(shape, \"square_prism.x3d\")\n",
    "coxeter.io.to_html(shape, \"square_prism.html\")\n",
    "\n",
    "shape = coxeter.families.PrismAntiprismFamily.get_shape(\"Triangular Antiprism\")\n",
    "coxeter.io.to_x3d(shape, \"triangular_antiprism.x3d\")\n",
    "coxeter.io.to_html(shape, \"triangular_antiprism.html\")"
   ]
  },
  {
   "cell_type": "code",
   "execution_count": 6,
   "metadata": {},
   "outputs": [
    {
     "name": "stdout",
     "output_type": "stream",
     "text": [
      "Triangular Pyramid,4,4,:x3d-model:`_static/x3d/triangular_pyramid.x3d`\n",
      "Square Pyramid,5,5,:x3d-model:`_static/x3d/square_pyramid.x3d`\n",
      "Pentagonal Pyramid,6,6,:x3d-model:`_static/x3d/pentagonal_pyramid.x3d`\n",
      "Triangular Dipyramid,5,6,:x3d-model:`_static/x3d/triangular_dipyramid.x3d`\n",
      "Square Dipyramid,6,8,:x3d-model:`_static/x3d/square_dipyramid.x3d`\n",
      "Pentagonal Dipyramid,7,10,:x3d-model:`_static/x3d/pentagonal_dipyramid.x3d`\n"
     ]
    }
   ],
   "source": [
    "import coxeter\n",
    "\n",
    "# Create Pyramid and Dipyramid X3D models\n",
    "names = [\n",
    "    \"Triangular Pyramid\",\n",
    "    \"Square Pyramid\",\n",
    "    \"Pentagonal Pyramid\",\n",
    "    \"Triangular Dipyramid\",\n",
    "    \"Square Dipyramid\",\n",
    "    \"Pentagonal Dipyramid\",\n",
    "]\n",
    "for n in names:\n",
    "    shape = coxeter.families.PyramidDipyramidFamily.get_shape(n)\n",
    "    print(\n",
    "        f\"{n},{len(shape.vertices)},{len(shape.faces)},:x3d-model:`_static/x3d/{n.lower().replace(' ', '_') + '.x3d'}`\"\n",
    "    )\n",
    "    # coxeter.io.to_x3d(shape, n.lower().replace(\" \", \"_\") + \".x3d\")\n",
    "    # coxeter.io.to_html(shape, n.lower().replace(\" \", \"_\") + \".html\")"
   ]
  },
  {
   "cell_type": "code",
   "execution_count": null,
   "metadata": {},
   "outputs": [],
   "source": []
  }
 ],
 "metadata": {
  "language_info": {
   "name": "python"
  }
 },
 "nbformat": 4,
 "nbformat_minor": 2
}

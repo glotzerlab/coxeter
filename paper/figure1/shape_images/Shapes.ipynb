{
 "cells": [
  {
   "cell_type": "markdown",
   "metadata": {},
   "source": [
    "# About\n",
    "\n",
    "The purpose of this notebook is to generate the shapes used in the coxeter paper figure.\n",
    "Shapes are generated using fresnel."
   ]
  },
  {
   "cell_type": "code",
   "execution_count": null,
   "metadata": {},
   "outputs": [],
   "source": [
    "import itertools\n",
    "import math\n",
    "\n",
    "import fresnel\n",
    "import numpy as np\n",
    "import pandas as pd\n",
    "import PIL"
   ]
  },
  {
   "cell_type": "markdown",
   "metadata": {},
   "source": [
    "### Convex polyhedron\n",
    "The example convex polyhedron is a [truncated cube from fresnel-examples](https://github.com/glotzerlab/fresnel-examples/blob/master/01-Primitives/02-Convex-polyhedron-geometry.ipynb)."
   ]
  },
  {
   "cell_type": "code",
   "execution_count": null,
   "metadata": {},
   "outputs": [],
   "source": [
    "device = fresnel.Device()\n",
    "scene = fresnel.Scene(device)"
   ]
  },
  {
   "cell_type": "code",
   "execution_count": null,
   "metadata": {},
   "outputs": [],
   "source": [
    "# first get cube verts\n",
    "pm = [-1, 1]\n",
    "cube_verts = list(itertools.product(pm, repeat=3))\n",
    "trunc_cube_verts = []\n",
    "# truncate by removing corners and adding vertices to edges\n",
    "for p1, p2 in itertools.combinations(cube_verts, 2):\n",
    "    # don't add points along any diagonals\n",
    "    match = (p1[0] == p2[0], p1[1] == p2[1], p1[2] == p2[2])\n",
    "    if match.count(False) == 1:  # only 1 coordinate changes, not a diagonal\n",
    "        p1, p2 = np.array(p1), np.array(p2)\n",
    "        vec = p2 - p1\n",
    "        trunc_cube_verts.append(p1 + vec / 3)\n",
    "        trunc_cube_verts.append(p1 + 2 * vec / 3)"
   ]
  },
  {
   "cell_type": "code",
   "execution_count": null,
   "metadata": {},
   "outputs": [],
   "source": [
    "c1 = fresnel.color.linear([0.70, 0.87, 0.54]) * 0.8\n",
    "c2 = fresnel.color.linear([0.65, 0.81, 0.89]) * 0.8\n",
    "\n",
    "\n",
    "colors = {8: c1, 3: c2}\n",
    "poly_info = fresnel.util.convex_polyhedron_from_vertices(trunc_cube_verts)\n",
    "for idx, fs in enumerate(poly_info[\"face_sides\"]):\n",
    "    poly_info[\"face_color\"][idx] = colors[fs]\n",
    "cube = fresnel.geometry.ConvexPolyhedron(scene, poly_info, N=1)\n",
    "cube.outline_width = 0.02\n",
    "cube.material = fresnel.material.Material(\n",
    "    color=fresnel.color.linear([0.25, 0.5, 0.9]), roughness=0.8\n",
    ")"
   ]
  },
  {
   "cell_type": "code",
   "execution_count": null,
   "metadata": {},
   "outputs": [],
   "source": [
    "cube.position[:] = [[0, 0, 0]]\n",
    "cube.orientation[:] = [[0.80777943, 0.41672122, 0.00255412, 0.41692838]]"
   ]
  },
  {
   "cell_type": "code",
   "execution_count": null,
   "metadata": {},
   "outputs": [],
   "source": [
    "cube.color[:] = fresnel.color.linear(np.array([142, 203, 98]) / 255)\n",
    "cube.material.primitive_color_mix = 1.0\n",
    "cube.color_by_face = 0.3"
   ]
  },
  {
   "cell_type": "code",
   "execution_count": null,
   "metadata": {},
   "outputs": [],
   "source": [
    "scene.camera = fresnel.camera.fit(scene, view=\"front\")\n",
    "image = PIL.Image.fromarray(fresnel.preview(scene)[:], mode=\"RGBA\")\n",
    "image.save(\"trunc_cube.png\")"
   ]
  },
  {
   "cell_type": "markdown",
   "metadata": {},
   "source": [
    "### Polygons\n",
    "A random set of vertices is used to show examples of both nonconvex polygons and convex spheropolygons."
   ]
  },
  {
   "cell_type": "code",
   "execution_count": null,
   "metadata": {},
   "outputs": [],
   "source": [
    "device = fresnel.Device()\n",
    "scene = fresnel.Scene(device)"
   ]
  },
  {
   "cell_type": "code",
   "execution_count": null,
   "metadata": {},
   "outputs": [],
   "source": [
    "nonconvex_polygon = fresnel.geometry.Polygon(\n",
    "    scene,\n",
    "    N=1,\n",
    "    vertices=np.array(\n",
    "        [[0, 0], [0.4, -0.4], [1, 0.2], [0.8, 1], [-0.4, 1], [-0.8, 0.4], [-0.6, -0.2]]\n",
    "    )\n",
    "    * 1.6,\n",
    ")\n",
    "nonconvex_polygon.material.color = fresnel.color.linear(np.array([108, 183, 203]) / 255)\n",
    "nonconvex_polygon.material.solid = 1\n",
    "\n",
    "nonconvex_polygon.position[:] = [[3, -0.5]]\n",
    "nonconvex_polygon.angle[:] = [0]\n",
    "nonconvex_polygon.outline_width = 0.05"
   ]
  },
  {
   "cell_type": "code",
   "execution_count": null,
   "metadata": {},
   "outputs": [],
   "source": [
    "scene.camera = fresnel.camera.fit(scene, view=\"front\")\n",
    "image = PIL.Image.fromarray(fresnel.preview(scene)[:], mode=\"RGBA\")\n",
    "image.save(\"polygon.png\")"
   ]
  },
  {
   "cell_type": "code",
   "execution_count": null,
   "metadata": {},
   "outputs": [],
   "source": [
    "device = fresnel.Device()\n",
    "scene = fresnel.Scene(device)"
   ]
  },
  {
   "cell_type": "code",
   "execution_count": null,
   "metadata": {},
   "outputs": [],
   "source": [
    "spheropolygon = fresnel.geometry.Polygon(\n",
    "    scene,\n",
    "    N=1,\n",
    "    vertices=np.array(\n",
    "        [[0.4, -0.4], [1, 0.2], [0.8, 1], [-0.4, 1], [-0.8, 0.4], [-0.6, -0.2]]\n",
    "    )\n",
    "    * 1.3,\n",
    "    rounding_radius=0.5,\n",
    ")\n",
    "spheropolygon.material.color = fresnel.color.linear(np.array([218, 151, 143]) / 255)\n",
    "spheropolygon.material.solid = 1\n",
    "\n",
    "spheropolygon.position[:] = [[10, 0]]\n",
    "spheropolygon.angle[:] = [np.pi / 2]\n",
    "spheropolygon.outline_width = 0.05"
   ]
  },
  {
   "cell_type": "code",
   "execution_count": null,
   "metadata": {},
   "outputs": [],
   "source": [
    "scene.camera = fresnel.camera.fit(scene, view=\"front\")\n",
    "image = PIL.Image.fromarray(fresnel.preview(scene)[:], mode=\"RGBA\")\n",
    "image.save(\"spheropolygon.png\")"
   ]
  },
  {
   "cell_type": "markdown",
   "metadata": {},
   "source": [
    "### General mesh\n",
    "\n",
    "To demonstrate a generic mesh, we triangulate this thicc minimal bun from https://www.thingiverse.com/thing:151081. "
   ]
  },
  {
   "cell_type": "code",
   "execution_count": null,
   "metadata": {},
   "outputs": [],
   "source": [
    "import os\n",
    "\n",
    "import fresnel\n",
    "import numpy as np\n",
    "import plato as pl\n",
    "import plato.draw as draw\n",
    "import plato.draw.fresnel"
   ]
  },
  {
   "cell_type": "code",
   "execution_count": null,
   "metadata": {},
   "outputs": [],
   "source": [
    "def draw_bun():\n",
    "\n",
    "    data = np.load(\"data/low_poly_stanford_bunny/data.npz\")\n",
    "    vertices = data[\"vertices\"]\n",
    "    indices = data[\"indices\"]\n",
    "    colors = data[\"colors\"]\n",
    "    prim = draw.Mesh(vertices=vertices, indices=indices, colors=colors, outline=4e-2)\n",
    "    rotation = [-0.795798, 0.58683366, -0.12027311, -0.08869123]\n",
    "    return draw.Scene(prim, rotation=rotation, zoom=2)\n",
    "\n",
    "\n",
    "bun = draw_bun()\n",
    "bun = bun.convert(pl.draw.fresnel)\n",
    "bun.save(\"bunny.png\")"
   ]
  }
 ],
 "metadata": {
  "kernelspec": {
   "display_name": "Python 3",
   "language": "python",
   "name": "python3"
  },
  "language_info": {
   "codemirror_mode": {
    "name": "ipython",
    "version": 3
   },
   "file_extension": ".py",
   "mimetype": "text/x-python",
   "name": "python",
   "nbconvert_exporter": "python",
   "pygments_lexer": "ipython3",
   "version": "3.8.5"
  }
 },
 "nbformat": 4,
 "nbformat_minor": 4
}

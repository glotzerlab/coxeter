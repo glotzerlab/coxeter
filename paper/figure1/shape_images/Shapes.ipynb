{
 "cells": [
  {
   "cell_type": "markdown",
   "metadata": {},
   "source": [
    "# About\n",
    "\n",
    "The purpose of this notebook is to generate the shapes used in the coxeter paper figure.\n",
    "Shapes are generated using fresnel."
   ]
  },
  {
   "cell_type": "code",
   "execution_count": 1,
   "metadata": {},
   "outputs": [],
   "source": [
    "import fresnel\n",
    "import itertools\n",
    "import math\n",
    "import pandas as pd\n",
    "import numpy as np\n",
    "import PIL"
   ]
  },
  {
   "cell_type": "markdown",
   "metadata": {},
   "source": [
    "### Convex polyhedron\n",
    "The example convex polyhedron is a [truncated cube from fresnel-examples](https://github.com/glotzerlab/fresnel-examples/blob/master/01-Primitives/02-Convex-polyhedron-geometry.ipynb)."
   ]
  },
  {
   "cell_type": "code",
   "execution_count": 2,
   "metadata": {},
   "outputs": [],
   "source": [
    "device = fresnel.Device()\n",
    "scene = fresnel.Scene(device)"
   ]
  },
  {
   "cell_type": "code",
   "execution_count": 3,
   "metadata": {},
   "outputs": [],
   "source": [
    "# first get cube verts\n",
    "pm = [-1, 1]\n",
    "cube_verts = list(itertools.product(pm, repeat=3))\n",
    "trunc_cube_verts = []\n",
    "# truncate by removing corners and adding vertices to edges\n",
    "for p1, p2 in itertools.combinations(cube_verts, 2):\n",
    "    # don't add points along any diagonals\n",
    "    match = (p1[0]==p2[0], p1[1]==p2[1], p1[2]==p2[2])\n",
    "    if match.count(False) == 1: # only 1 coordinate changes, not a diagonal\n",
    "        p1, p2 = np.array(p1), np.array(p2)\n",
    "        vec = p2 - p1\n",
    "        trunc_cube_verts.append(p1 + vec/3)\n",
    "        trunc_cube_verts.append(p1 + 2*vec/3)"
   ]
  },
  {
   "cell_type": "code",
   "execution_count": 4,
   "metadata": {},
   "outputs": [],
   "source": [
    "c1 = fresnel.color.linear([0.70, 0.87, 0.54])*0.8\n",
    "c2 = fresnel.color.linear([0.65,0.81,0.89])*0.8\n",
    "colors = {8: c1, 3: c2}\n",
    "poly_info = fresnel.util.convex_polyhedron_from_vertices(trunc_cube_verts)\n",
    "for idx, fs in enumerate(poly_info['face_sides']):\n",
    "    poly_info['face_color'][idx] = colors[fs]\n",
    "cube = fresnel.geometry.ConvexPolyhedron(scene,\n",
    "                                             poly_info,\n",
    "                                             N=1\n",
    "                                            )\n",
    "cube.outline_width = 0.01\n",
    "cube.material = fresnel.material.Material(color=fresnel.color.linear([0.25,0.5,0.9]),\n",
    "                                              roughness=0.8)"
   ]
  },
  {
   "cell_type": "code",
   "execution_count": 5,
   "metadata": {},
   "outputs": [],
   "source": [
    "cube.position[:] = [[0, 0, 0]]\n",
    "cube.orientation[:] = [[0.80777943,  0.41672122,  0.00255412,  0.41692838]]"
   ]
  },
  {
   "cell_type": "code",
   "execution_count": 6,
   "metadata": {},
   "outputs": [],
   "source": [
    "cube.color[:] = fresnel.color.linear(np.array([142, 203, 98]) / 255)\n",
    "cube.material.primitive_color_mix = 1.0\n",
    "cube.color_by_face = 0.3"
   ]
  },
  {
   "cell_type": "code",
   "execution_count": 7,
   "metadata": {},
   "outputs": [],
   "source": [
    "scene.camera = fresnel.camera.fit(scene, view='front')\n",
    "image = PIL.Image.fromarray(fresnel.preview(scene)[:], mode='RGBA')\n",
    "image.save('trunc_cube.png')"
   ]
  },
  {
   "cell_type": "markdown",
   "metadata": {},
   "source": [
    "### Polygons\n",
    "A random set of vertices is used to show examples of both nonconvex polygons and convex spheropolygons."
   ]
  },
  {
   "cell_type": "code",
   "execution_count": 8,
   "metadata": {},
   "outputs": [],
   "source": [
    "device = fresnel.Device()\n",
    "scene = fresnel.Scene(device)\n"
   ]
  },
  {
   "cell_type": "code",
   "execution_count": 9,
   "metadata": {},
   "outputs": [],
   "source": [
    "nonconvex_polygon = fresnel.geometry.Polygon(\n",
    "    scene,\n",
    "    N=1,\n",
    "    vertices=np.array([[0, 0],\n",
    "                       [0.4, -0.4],\n",
    "                       [1, 0.2],\n",
    "                       [0.8, 1],\n",
    "                       [-0.4, 1],\n",
    "                       [-0.8, 0.4],\n",
    "                       [-0.6, -0.2]]) * 1.6,\n",
    ")\n",
    "nonconvex_polygon.material.color = fresnel.color.linear(np.array([108, 183, 203]) / 255)\n",
    "nonconvex_polygon.material.solid = 1\n",
    "\n",
    "nonconvex_polygon.position[:] = [[3, -0.5]]\n",
    "nonconvex_polygon.angle[:] = [0]\n",
    "nonconvex_polygon.outline_width = 0.01"
   ]
  },
  {
   "cell_type": "code",
   "execution_count": 10,
   "metadata": {},
   "outputs": [],
   "source": [
    "scene.camera = fresnel.camera.fit(scene, view='front')\n",
    "image = PIL.Image.fromarray(fresnel.preview(scene)[:], mode='RGBA')\n",
    "image.save('polygon.png')"
   ]
  },
  {
   "cell_type": "code",
   "execution_count": 11,
   "metadata": {},
   "outputs": [],
   "source": [
    "device = fresnel.Device()\n",
    "scene = fresnel.Scene(device)"
   ]
  },
  {
   "cell_type": "code",
   "execution_count": 12,
   "metadata": {},
   "outputs": [],
   "source": [
    "spheropolygon = fresnel.geometry.Polygon(\n",
    "    scene,\n",
    "    N=1,\n",
    "    vertices=np.array([[0.4, -0.4],\n",
    "                       [1, 0.2],\n",
    "                       [0.8, 1],\n",
    "                       [-0.4, 1],\n",
    "                       [-0.8, 0.4],\n",
    "                       [-0.6, -0.2]]) * 1.3,\n",
    "    rounding_radius=0.3\n",
    ")\n",
    "spheropolygon.material.color = fresnel.color.linear(np.array([218, 151, 143]) / 255)\n",
    "spheropolygon.material.solid = 1\n",
    "\n",
    "spheropolygon.position[:] = [[10, 0]]\n",
    "spheropolygon.angle[:] = [np.pi/2]\n",
    "spheropolygon.outline_width = 0.01"
   ]
  },
  {
   "cell_type": "code",
   "execution_count": 13,
   "metadata": {},
   "outputs": [],
   "source": [
    "scene.camera = fresnel.camera.fit(scene, view='front')\n",
    "image = PIL.Image.fromarray(fresnel.preview(scene)[:], mode='RGBA')\n",
    "image.save('spheropolygon.png')"
   ]
  },
  {
   "cell_type": "markdown",
   "metadata": {},
   "source": [
    "### General mesh\n",
    "\n",
    "To demonstrate a generic mesh, we triangulate an [endonuclease from the PDB](https://www.rcsb.org/structure/2voa) using [MSMS](http://mgl.scripps.edu/people/sanner/html/msms_man.html)."
   ]
  },
  {
   "cell_type": "code",
   "execution_count": 23,
   "metadata": {},
   "outputs": [],
   "source": [
    "device = fresnel.Device()\n",
    "scene = fresnel.Scene(device)"
   ]
  },
  {
   "cell_type": "code",
   "execution_count": 24,
   "metadata": {},
   "outputs": [],
   "source": [
    "verts = pd.read_csv('tri.txt.vert', sep='\\s+', header=None, index_col=None)\n",
    "faces = pd.read_csv('tri.txt.face', sep='\\s+', header=None, index_col=None)\n",
    "\n",
    "# The first three columns of faces are 1-indexed indices into the\n",
    "# first three columns of the verts array which are the vertex positions.\n",
    "triangles = verts.to_numpy()[:, :3][faces.to_numpy()[:, :3] - 1] * 0.03"
   ]
  },
  {
   "cell_type": "code",
   "execution_count": 25,
   "metadata": {},
   "outputs": [],
   "source": [
    "mesh = fresnel.geometry.Mesh(scene,\n",
    "                             vertices=triangles.reshape(-1, 3),\n",
    "                             N=1)\n",
    "mesh.material = fresnel.material.Material(color=fresnel.color.linear([0.25,0.5,0.9]), roughness=0.6)\n",
    "mesh.position[:] = [[0, 0, 0]]\n",
    "mesh.orientation[:] = [[0.70710677, 0, 0, 0.70710677]]"
   ]
  },
  {
   "cell_type": "code",
   "execution_count": 18,
   "metadata": {},
   "outputs": [],
   "source": [
    "scene.camera = fresnel.camera.fit(scene, view='front')\n",
    "image = PIL.Image.fromarray(fresnel.preview(scene)[:], mode='RGBA')\n",
    "image.save('mesh.png')"
   ]
  }
 ],
 "metadata": {
  "kernelspec": {
   "display_name": "Python 3",
   "language": "python",
   "name": "python3"
  },
  "language_info": {
   "codemirror_mode": {
    "name": "ipython",
    "version": 3
   },
   "file_extension": ".py",
   "mimetype": "text/x-python",
   "name": "python",
   "nbconvert_exporter": "python",
   "pygments_lexer": "ipython3",
   "version": "3.8.5"
  }
 },
 "nbformat": 4,
 "nbformat_minor": 4
}
